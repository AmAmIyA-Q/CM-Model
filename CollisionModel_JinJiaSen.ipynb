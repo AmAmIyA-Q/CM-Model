{
 "cells": [
  {
   "cell_type": "code",
   "execution_count": 41,
   "metadata": {},
   "outputs": [],
   "source": [
    "import deepquantum as dq\n",
    "import deepquantum.photonic as dqp\n",
    "import torch\n",
    "import torch.nn as nn\n",
    "import numpy as np"
   ]
  },
  {
   "cell_type": "markdown",
   "metadata": {},
   "source": [
    "\\begin{equation}\n",
    "    \\mathbb{S}_{\\mathrm{BS}}=\\begin{pmatrix}r&t\\\\-t&r\\end{pmatrix},\n",
    "\\end{equation}\n",
    "\n",
    "\\begin{equation}\n",
    "    r=\\sin(\\eta),~\\theta=\\eta-\\pi/2,~\\phi=0,\n",
    "\\end{equation}\n",
    "\n",
    "\\begin{equation}\n",
    "    U_{\\mathrm{BS}}(\\theta,\\phi)=\\begin{pmatrix}\\cos\\left(\\theta\\right)&-e^{-i\\phi}\\sin\\left(\\theta\\right)\\\\e^{i\\phi}\\sin\\left(\\theta\\right)&\\cos\\left(\\theta\\right)\\end{pmatrix}\n",
    "\\end{equation}"
   ]
  },
  {
   "cell_type": "code",
   "execution_count": 42,
   "metadata": {},
   "outputs": [
    {
     "data": {
      "text/plain": [
       "tensor([[ 0.0636, -1.9351,  0.4839],\n",
       "        [-0.2981, -0.9414, -0.1829],\n",
       "        [-0.2813,  0.1991, -0.0491]])"
      ]
     },
     "execution_count": 42,
     "metadata": {},
     "output_type": "execute_result"
    }
   ],
   "source": [
    "torch.randn(3, 3)"
   ]
  },
  {
   "cell_type": "code",
   "execution_count": 43,
   "metadata": {},
   "outputs": [
    {
     "data": {
      "image/svg+xml": [
       "<svg baseProfile=\"full\" height=\"7.2727272727272725cm\" version=\"1.1\" width=\"47.1cm\" xmlns=\"http://www.w3.org/2000/svg\" xmlns:ev=\"http://www.w3.org/2001/xml-events\" xmlns:xlink=\"http://www.w3.org/1999/xlink\"><defs /><polyline fill=\"none\" points=\"40,60 70,60 100,90 130,90\" stroke=\"black\" stroke-width=\"2\" /><polyline fill=\"none\" points=\"40,90 70,90 100,60 130,60\" stroke=\"black\" stroke-width=\"2\" /><text font-size=\"9\" x=\"80\" y=\"55\">BS</text><text font-size=\"7\" x=\"95\" y=\"74\">θ =-0.571</text><text font-size=\"7\" x=\"95\" y=\"80\">ϕ =0.0</text><polyline fill=\"none\" points=\"130,60 220,60\" stroke=\"black\" stroke-width=\"2\" /><rect fill=\"teal\" height=\"12\" rx=\"0\" ry=\"0\" stroke=\"black\" stroke-width=\"1.5\" width=\"6\" x=\"172.5\" y=\"55\" /><text font-size=\"9\" x=\"170\" y=\"50\">PS</text><text font-size=\"7\" x=\"185\" y=\"50\">θ =0.1</text><polyline fill=\"none\" points=\"130,90 160,90 190,120 220,120\" stroke=\"black\" stroke-width=\"2\" /><polyline fill=\"none\" points=\"130,120 160,120 190,90 220,90\" stroke=\"black\" stroke-width=\"2\" /><text font-size=\"9\" x=\"170\" y=\"85\">BS</text><text font-size=\"7\" x=\"185\" y=\"104\">θ =-0.571</text><text font-size=\"7\" x=\"185\" y=\"110\">ϕ =0.0</text><polyline fill=\"none\" points=\"220,90 310,90\" stroke=\"black\" stroke-width=\"2\" /><rect fill=\"teal\" height=\"12\" rx=\"0\" ry=\"0\" stroke=\"black\" stroke-width=\"1.5\" width=\"6\" x=\"262.5\" y=\"85\" /><text font-size=\"9\" x=\"260\" y=\"80\">PS</text><text font-size=\"7\" x=\"275\" y=\"80\">θ =0.1</text><polyline fill=\"none\" points=\"220,120 250,120 280,150 310,150\" stroke=\"black\" stroke-width=\"2\" /><polyline fill=\"none\" points=\"220,150 250,150 280,120 310,120\" stroke=\"black\" stroke-width=\"2\" /><text font-size=\"9\" x=\"260\" y=\"115\">BS</text><text font-size=\"7\" x=\"275\" y=\"134\">θ =-0.571</text><text font-size=\"7\" x=\"275\" y=\"140\">ϕ =0.0</text><polyline fill=\"none\" points=\"310,120 400,120\" stroke=\"black\" stroke-width=\"2\" /><rect fill=\"teal\" height=\"12\" rx=\"0\" ry=\"0\" stroke=\"black\" stroke-width=\"1.5\" width=\"6\" x=\"352.5\" y=\"115\" /><text font-size=\"9\" x=\"350\" y=\"110\">PS</text><text font-size=\"7\" x=\"365\" y=\"110\">θ =0.1</text><polyline fill=\"none\" points=\"310,150 340,150 370,180 400,180\" stroke=\"black\" stroke-width=\"2\" /><polyline fill=\"none\" points=\"310,180 340,180 370,150 400,150\" stroke=\"black\" stroke-width=\"2\" /><text font-size=\"9\" x=\"350\" y=\"145\">BS</text><text font-size=\"7\" x=\"365\" y=\"164\">θ =-0.571</text><text font-size=\"7\" x=\"365\" y=\"170\">ϕ =0.0</text><polyline fill=\"none\" points=\"400,150 490,150\" stroke=\"black\" stroke-width=\"2\" /><rect fill=\"teal\" height=\"12\" rx=\"0\" ry=\"0\" stroke=\"black\" stroke-width=\"1.5\" width=\"6\" x=\"442.5\" y=\"145\" /><text font-size=\"9\" x=\"440\" y=\"140\">PS</text><text font-size=\"7\" x=\"455\" y=\"140\">θ =0.1</text><polyline fill=\"none\" points=\"400,180 430,180 460,210 490,210\" stroke=\"black\" stroke-width=\"2\" /><polyline fill=\"none\" points=\"400,210 430,210 460,180 490,180\" stroke=\"black\" stroke-width=\"2\" /><text font-size=\"9\" x=\"440\" y=\"175\">BS</text><text font-size=\"7\" x=\"455\" y=\"194\">θ =-0.571</text><text font-size=\"7\" x=\"455\" y=\"200\">ϕ =0.0</text><polyline fill=\"none\" points=\"490,180 580,180\" stroke=\"black\" stroke-width=\"2\" /><rect fill=\"teal\" height=\"12\" rx=\"0\" ry=\"0\" stroke=\"black\" stroke-width=\"1.5\" width=\"6\" x=\"532.5\" y=\"175\" /><text font-size=\"9\" x=\"530\" y=\"170\">PS</text><text font-size=\"7\" x=\"545\" y=\"170\">θ =0.1</text><polyline fill=\"none\" points=\"490,210 520,210 550,240 580,240\" stroke=\"black\" stroke-width=\"2\" /><polyline fill=\"none\" points=\"490,240 520,240 550,210 580,210\" stroke=\"black\" stroke-width=\"2\" /><text font-size=\"9\" x=\"530\" y=\"205\">BS</text><text font-size=\"7\" x=\"545\" y=\"224\">θ =-0.571</text><text font-size=\"7\" x=\"545\" y=\"230\">ϕ =0.0</text><polyline fill=\"none\" points=\"580,210 670,210\" stroke=\"black\" stroke-width=\"2\" /><rect fill=\"teal\" height=\"12\" rx=\"0\" ry=\"0\" stroke=\"black\" stroke-width=\"1.5\" width=\"6\" x=\"622.5\" y=\"205\" /><text font-size=\"9\" x=\"620\" y=\"200\">PS</text><text font-size=\"7\" x=\"635\" y=\"200\">θ =0.1</text><polyline fill=\"none\" points=\"310,60 340,60 370,90 400,90\" stroke=\"black\" stroke-width=\"2\" /><polyline fill=\"none\" points=\"310,90 340,90 370,60 400,60\" stroke=\"black\" stroke-width=\"2\" /><text font-size=\"9\" x=\"350\" y=\"55\">BS</text><text font-size=\"7\" x=\"365\" y=\"74\">θ =-0.571</text><text font-size=\"7\" x=\"365\" y=\"80\">ϕ =0.0</text><polyline fill=\"none\" points=\"400,60 490,60\" stroke=\"black\" stroke-width=\"2\" /><rect fill=\"teal\" height=\"12\" rx=\"0\" ry=\"0\" stroke=\"black\" stroke-width=\"1.5\" width=\"6\" x=\"442.5\" y=\"55\" /><text font-size=\"9\" x=\"440\" y=\"50\">PS</text><text font-size=\"7\" x=\"455\" y=\"50\">θ =0.1</text><polyline fill=\"none\" points=\"400,90 430,90 460,120 490,120\" stroke=\"black\" stroke-width=\"2\" /><polyline fill=\"none\" points=\"400,120 430,120 460,90 490,90\" stroke=\"black\" stroke-width=\"2\" /><text font-size=\"9\" x=\"440\" y=\"85\">BS</text><text font-size=\"7\" x=\"455\" y=\"104\">θ =-0.571</text><text font-size=\"7\" x=\"455\" y=\"110\">ϕ =0.0</text><polyline fill=\"none\" points=\"490,90 580,90\" stroke=\"black\" stroke-width=\"2\" /><rect fill=\"teal\" height=\"12\" rx=\"0\" ry=\"0\" stroke=\"black\" stroke-width=\"1.5\" width=\"6\" x=\"532.5\" y=\"85\" /><text font-size=\"9\" x=\"530\" y=\"80\">PS</text><text font-size=\"7\" x=\"545\" y=\"80\">θ =0.1</text><polyline fill=\"none\" points=\"490,120 520,120 550,150 580,150\" stroke=\"black\" stroke-width=\"2\" /><polyline fill=\"none\" points=\"490,150 520,150 550,120 580,120\" stroke=\"black\" stroke-width=\"2\" /><text font-size=\"9\" x=\"530\" y=\"115\">BS</text><text font-size=\"7\" x=\"545\" y=\"134\">θ =-0.571</text><text font-size=\"7\" x=\"545\" y=\"140\">ϕ =0.0</text><polyline fill=\"none\" points=\"580,120 670,120\" stroke=\"black\" stroke-width=\"2\" /><rect fill=\"teal\" height=\"12\" rx=\"0\" ry=\"0\" stroke=\"black\" stroke-width=\"1.5\" width=\"6\" x=\"622.5\" y=\"115\" /><text font-size=\"9\" x=\"620\" y=\"110\">PS</text><text font-size=\"7\" x=\"635\" y=\"110\">θ =0.1</text><polyline fill=\"none\" points=\"580,150 610,150 640,180 670,180\" stroke=\"black\" stroke-width=\"2\" /><polyline fill=\"none\" points=\"580,180 610,180 640,150 670,150\" stroke=\"black\" stroke-width=\"2\" /><text font-size=\"9\" x=\"620\" y=\"145\">BS</text><text font-size=\"7\" x=\"635\" y=\"164\">θ =-0.571</text><text font-size=\"7\" x=\"635\" y=\"170\">ϕ =0.0</text><polyline fill=\"none\" points=\"670,150 760,150\" stroke=\"black\" stroke-width=\"2\" /><rect fill=\"teal\" height=\"12\" rx=\"0\" ry=\"0\" stroke=\"black\" stroke-width=\"1.5\" width=\"6\" x=\"712.5\" y=\"145\" /><text font-size=\"9\" x=\"710\" y=\"140\">PS</text><text font-size=\"7\" x=\"725\" y=\"140\">θ =0.1</text><polyline fill=\"none\" points=\"670,180 700,180 730,210 760,210\" stroke=\"black\" stroke-width=\"2\" /><polyline fill=\"none\" points=\"670,210 700,210 730,180 760,180\" stroke=\"black\" stroke-width=\"2\" /><text font-size=\"9\" x=\"710\" y=\"175\">BS</text><text font-size=\"7\" x=\"725\" y=\"194\">θ =-0.571</text><text font-size=\"7\" x=\"725\" y=\"200\">ϕ =0.0</text><polyline fill=\"none\" points=\"760,180 850,180\" stroke=\"black\" stroke-width=\"2\" /><rect fill=\"teal\" height=\"12\" rx=\"0\" ry=\"0\" stroke=\"black\" stroke-width=\"1.5\" width=\"6\" x=\"802.5\" y=\"175\" /><text font-size=\"9\" x=\"800\" y=\"170\">PS</text><text font-size=\"7\" x=\"815\" y=\"170\">θ =0.1</text><polyline fill=\"none\" points=\"580,60 610,60 640,90 670,90\" stroke=\"black\" stroke-width=\"2\" /><polyline fill=\"none\" points=\"580,90 610,90 640,60 670,60\" stroke=\"black\" stroke-width=\"2\" /><text font-size=\"9\" x=\"620\" y=\"55\">BS</text><text font-size=\"7\" x=\"635\" y=\"74\">θ =-0.571</text><text font-size=\"7\" x=\"635\" y=\"80\">ϕ =0.0</text><polyline fill=\"none\" points=\"670,60 760,60\" stroke=\"black\" stroke-width=\"2\" /><rect fill=\"teal\" height=\"12\" rx=\"0\" ry=\"0\" stroke=\"black\" stroke-width=\"1.5\" width=\"6\" x=\"712.5\" y=\"55\" /><text font-size=\"9\" x=\"710\" y=\"50\">PS</text><text font-size=\"7\" x=\"725\" y=\"50\">θ =0.1</text><polyline fill=\"none\" points=\"670,90 700,90 730,120 760,120\" stroke=\"black\" stroke-width=\"2\" /><polyline fill=\"none\" points=\"670,120 700,120 730,90 760,90\" stroke=\"black\" stroke-width=\"2\" /><text font-size=\"9\" x=\"710\" y=\"85\">BS</text><text font-size=\"7\" x=\"725\" y=\"104\">θ =-0.571</text><text font-size=\"7\" x=\"725\" y=\"110\">ϕ =0.0</text><polyline fill=\"none\" points=\"760,90 850,90\" stroke=\"black\" stroke-width=\"2\" /><rect fill=\"teal\" height=\"12\" rx=\"0\" ry=\"0\" stroke=\"black\" stroke-width=\"1.5\" width=\"6\" x=\"802.5\" y=\"85\" /><text font-size=\"9\" x=\"800\" y=\"80\">PS</text><text font-size=\"7\" x=\"815\" y=\"80\">θ =0.1</text><polyline fill=\"none\" points=\"760,120 790,120 820,150 850,150\" stroke=\"black\" stroke-width=\"2\" /><polyline fill=\"none\" points=\"760,150 790,150 820,120 850,120\" stroke=\"black\" stroke-width=\"2\" /><text font-size=\"9\" x=\"800\" y=\"115\">BS</text><text font-size=\"7\" x=\"815\" y=\"134\">θ =-0.571</text><text font-size=\"7\" x=\"815\" y=\"140\">ϕ =0.0</text><polyline fill=\"none\" points=\"850,120 940,120\" stroke=\"black\" stroke-width=\"2\" /><rect fill=\"teal\" height=\"12\" rx=\"0\" ry=\"0\" stroke=\"black\" stroke-width=\"1.5\" width=\"6\" x=\"892.5\" y=\"115\" /><text font-size=\"9\" x=\"890\" y=\"110\">PS</text><text font-size=\"7\" x=\"905\" y=\"110\">θ =0.1</text><polyline fill=\"none\" points=\"850,150 880,150 910,180 940,180\" stroke=\"black\" stroke-width=\"2\" /><polyline fill=\"none\" points=\"850,180 880,180 910,150 940,150\" stroke=\"black\" stroke-width=\"2\" /><text font-size=\"9\" x=\"890\" y=\"145\">BS</text><text font-size=\"7\" x=\"905\" y=\"164\">θ =-0.571</text><text font-size=\"7\" x=\"905\" y=\"170\">ϕ =0.0</text><polyline fill=\"none\" points=\"940,150 1030,150\" stroke=\"black\" stroke-width=\"2\" /><rect fill=\"teal\" height=\"12\" rx=\"0\" ry=\"0\" stroke=\"black\" stroke-width=\"1.5\" width=\"6\" x=\"982.5\" y=\"145\" /><text font-size=\"9\" x=\"980\" y=\"140\">PS</text><text font-size=\"7\" x=\"995\" y=\"140\">θ =0.1</text><polyline fill=\"none\" points=\"850,60 880,60 910,90 940,90\" stroke=\"black\" stroke-width=\"2\" /><polyline fill=\"none\" points=\"850,90 880,90 910,60 940,60\" stroke=\"black\" stroke-width=\"2\" /><text font-size=\"9\" x=\"890\" y=\"55\">BS</text><text font-size=\"7\" x=\"905\" y=\"74\">θ =-0.571</text><text font-size=\"7\" x=\"905\" y=\"80\">ϕ =0.0</text><polyline fill=\"none\" points=\"940,60 1030,60\" stroke=\"black\" stroke-width=\"2\" /><rect fill=\"teal\" height=\"12\" rx=\"0\" ry=\"0\" stroke=\"black\" stroke-width=\"1.5\" width=\"6\" x=\"982.5\" y=\"55\" /><text font-size=\"9\" x=\"980\" y=\"50\">PS</text><text font-size=\"7\" x=\"995\" y=\"50\">θ =0.1</text><polyline fill=\"none\" points=\"940,90 970,90 1000,120 1030,120\" stroke=\"black\" stroke-width=\"2\" /><polyline fill=\"none\" points=\"940,120 970,120 1000,90 1030,90\" stroke=\"black\" stroke-width=\"2\" /><text font-size=\"9\" x=\"980\" y=\"85\">BS</text><text font-size=\"7\" x=\"995\" y=\"104\">θ =-0.571</text><text font-size=\"7\" x=\"995\" y=\"110\">ϕ =0.0</text><polyline fill=\"none\" points=\"1030,90 1120,90\" stroke=\"black\" stroke-width=\"2\" /><rect fill=\"teal\" height=\"12\" rx=\"0\" ry=\"0\" stroke=\"black\" stroke-width=\"1.5\" width=\"6\" x=\"1072.5\" y=\"85\" /><text font-size=\"9\" x=\"1070\" y=\"80\">PS</text><text font-size=\"7\" x=\"1085\" y=\"80\">θ =0.1</text><polyline fill=\"none\" points=\"1030,120 1060,120 1090,150 1120,150\" stroke=\"black\" stroke-width=\"2\" /><polyline fill=\"none\" points=\"1030,150 1060,150 1090,120 1120,120\" stroke=\"black\" stroke-width=\"2\" /><text font-size=\"9\" x=\"1070\" y=\"115\">BS</text><text font-size=\"7\" x=\"1085\" y=\"134\">θ =-0.571</text><text font-size=\"7\" x=\"1085\" y=\"140\">ϕ =0.0</text><polyline fill=\"none\" points=\"1120,120 1210,120\" stroke=\"black\" stroke-width=\"2\" /><rect fill=\"teal\" height=\"12\" rx=\"0\" ry=\"0\" stroke=\"black\" stroke-width=\"1.5\" width=\"6\" x=\"1162.5\" y=\"115\" /><text font-size=\"9\" x=\"1160\" y=\"110\">PS</text><text font-size=\"7\" x=\"1175\" y=\"110\">θ =0.1</text><polyline fill=\"none\" points=\"1120,60 1150,60 1180,90 1210,90\" stroke=\"black\" stroke-width=\"2\" /><polyline fill=\"none\" points=\"1120,90 1150,90 1180,60 1210,60\" stroke=\"black\" stroke-width=\"2\" /><text font-size=\"9\" x=\"1160\" y=\"55\">BS</text><text font-size=\"7\" x=\"1175\" y=\"74\">θ =-0.571</text><text font-size=\"7\" x=\"1175\" y=\"80\">ϕ =0.0</text><polyline fill=\"none\" points=\"1210,60 1300,60\" stroke=\"black\" stroke-width=\"2\" /><rect fill=\"teal\" height=\"12\" rx=\"0\" ry=\"0\" stroke=\"black\" stroke-width=\"1.5\" width=\"6\" x=\"1252.5\" y=\"55\" /><text font-size=\"9\" x=\"1250\" y=\"50\">PS</text><text font-size=\"7\" x=\"1265\" y=\"50\">θ =0.1</text><polyline fill=\"none\" points=\"1210,90 1240,90 1270,120 1300,120\" stroke=\"black\" stroke-width=\"2\" /><polyline fill=\"none\" points=\"1210,120 1240,120 1270,90 1300,90\" stroke=\"black\" stroke-width=\"2\" /><text font-size=\"9\" x=\"1250\" y=\"85\">BS</text><text font-size=\"7\" x=\"1265\" y=\"104\">θ =-0.571</text><text font-size=\"7\" x=\"1265\" y=\"110\">ϕ =0.0</text><polyline fill=\"none\" points=\"1300,90 1390,90\" stroke=\"black\" stroke-width=\"2\" /><rect fill=\"teal\" height=\"12\" rx=\"0\" ry=\"0\" stroke=\"black\" stroke-width=\"1.5\" width=\"6\" x=\"1342.5\" y=\"85\" /><text font-size=\"9\" x=\"1340\" y=\"80\">PS</text><text font-size=\"7\" x=\"1355\" y=\"80\">θ =0.1</text><polyline fill=\"none\" points=\"1390,60 1420,60 1450,90 1480,90\" stroke=\"black\" stroke-width=\"2\" /><polyline fill=\"none\" points=\"1390,90 1420,90 1450,60 1480,60\" stroke=\"black\" stroke-width=\"2\" /><text font-size=\"9\" x=\"1430\" y=\"55\">BS</text><text font-size=\"7\" x=\"1445\" y=\"74\">θ =-0.571</text><text font-size=\"7\" x=\"1445\" y=\"80\">ϕ =0.0</text><polyline fill=\"none\" points=\"1480,60 1570,60\" stroke=\"black\" stroke-width=\"2\" /><rect fill=\"teal\" height=\"12\" rx=\"0\" ry=\"0\" stroke=\"black\" stroke-width=\"1.5\" width=\"6\" x=\"1522.5\" y=\"55\" /><text font-size=\"9\" x=\"1520\" y=\"50\">PS</text><text font-size=\"7\" x=\"1535\" y=\"50\">θ =0.1</text><polyline fill=\"none\" points=\"40,30 130,30\" stroke=\"black\" stroke-width=\"2\" /><polyline fill=\"none\" points=\"40,120 130,120\" stroke=\"black\" stroke-width=\"2\" /><polyline fill=\"none\" points=\"40,150 130,150\" stroke=\"black\" stroke-width=\"2\" /><polyline fill=\"none\" points=\"40,180 130,180\" stroke=\"black\" stroke-width=\"2\" /><polyline fill=\"none\" points=\"40,210 130,210\" stroke=\"black\" stroke-width=\"2\" /><polyline fill=\"none\" points=\"40,240 130,240\" stroke=\"black\" stroke-width=\"2\" /><polyline fill=\"none\" points=\"130,30 220,30\" stroke=\"black\" stroke-width=\"2\" /><polyline fill=\"none\" points=\"130,150 220,150\" stroke=\"black\" stroke-width=\"2\" /><polyline fill=\"none\" points=\"130,180 220,180\" stroke=\"black\" stroke-width=\"2\" /><polyline fill=\"none\" points=\"130,210 220,210\" stroke=\"black\" stroke-width=\"2\" /><polyline fill=\"none\" points=\"130,240 220,240\" stroke=\"black\" stroke-width=\"2\" /><polyline fill=\"none\" points=\"220,30 310,30\" stroke=\"black\" stroke-width=\"2\" /><polyline fill=\"none\" points=\"220,60 310,60\" stroke=\"black\" stroke-width=\"2\" /><polyline fill=\"none\" points=\"220,180 310,180\" stroke=\"black\" stroke-width=\"2\" /><polyline fill=\"none\" points=\"220,210 310,210\" stroke=\"black\" stroke-width=\"2\" /><polyline fill=\"none\" points=\"220,240 310,240\" stroke=\"black\" stroke-width=\"2\" /><polyline fill=\"none\" points=\"310,30 400,30\" stroke=\"black\" stroke-width=\"2\" /><polyline fill=\"none\" points=\"310,210 400,210\" stroke=\"black\" stroke-width=\"2\" /><polyline fill=\"none\" points=\"310,240 400,240\" stroke=\"black\" stroke-width=\"2\" /><polyline fill=\"none\" points=\"400,30 490,30\" stroke=\"black\" stroke-width=\"2\" /><polyline fill=\"none\" points=\"400,240 490,240\" stroke=\"black\" stroke-width=\"2\" /><polyline fill=\"none\" points=\"490,30 580,30\" stroke=\"black\" stroke-width=\"2\" /><polyline fill=\"none\" points=\"490,60 580,60\" stroke=\"black\" stroke-width=\"2\" /><polyline fill=\"none\" points=\"580,30 670,30\" stroke=\"black\" stroke-width=\"2\" /><polyline fill=\"none\" points=\"580,240 670,240\" stroke=\"black\" stroke-width=\"2\" /><polyline fill=\"none\" points=\"670,30 760,30\" stroke=\"black\" stroke-width=\"2\" /><polyline fill=\"none\" points=\"670,240 760,240\" stroke=\"black\" stroke-width=\"2\" /><polyline fill=\"none\" points=\"760,30 850,30\" stroke=\"black\" stroke-width=\"2\" /><polyline fill=\"none\" points=\"760,60 850,60\" stroke=\"black\" stroke-width=\"2\" /><polyline fill=\"none\" points=\"760,210 850,210\" stroke=\"black\" stroke-width=\"2\" /><polyline fill=\"none\" points=\"760,240 850,240\" stroke=\"black\" stroke-width=\"2\" /><polyline fill=\"none\" points=\"850,30 940,30\" stroke=\"black\" stroke-width=\"2\" /><polyline fill=\"none\" points=\"850,210 940,210\" stroke=\"black\" stroke-width=\"2\" /><polyline fill=\"none\" points=\"850,240 940,240\" stroke=\"black\" stroke-width=\"2\" /><polyline fill=\"none\" points=\"940,30 1030,30\" stroke=\"black\" stroke-width=\"2\" /><polyline fill=\"none\" points=\"940,180 1030,180\" stroke=\"black\" stroke-width=\"2\" /><polyline fill=\"none\" points=\"940,210 1030,210\" stroke=\"black\" stroke-width=\"2\" /><polyline fill=\"none\" points=\"940,240 1030,240\" stroke=\"black\" stroke-width=\"2\" /><polyline fill=\"none\" points=\"1030,30 1120,30\" stroke=\"black\" stroke-width=\"2\" /><polyline fill=\"none\" points=\"1030,60 1120,60\" stroke=\"black\" stroke-width=\"2\" /><polyline fill=\"none\" points=\"1030,180 1120,180\" stroke=\"black\" stroke-width=\"2\" /><polyline fill=\"none\" points=\"1030,210 1120,210\" stroke=\"black\" stroke-width=\"2\" /><polyline fill=\"none\" points=\"1030,240 1120,240\" stroke=\"black\" stroke-width=\"2\" /><polyline fill=\"none\" points=\"1120,30 1210,30\" stroke=\"black\" stroke-width=\"2\" /><polyline fill=\"none\" points=\"1120,150 1210,150\" stroke=\"black\" stroke-width=\"2\" /><polyline fill=\"none\" points=\"1120,180 1210,180\" stroke=\"black\" stroke-width=\"2\" /><polyline fill=\"none\" points=\"1120,210 1210,210\" stroke=\"black\" stroke-width=\"2\" /><polyline fill=\"none\" points=\"1120,240 1210,240\" stroke=\"black\" stroke-width=\"2\" /><polyline fill=\"none\" points=\"1210,30 1300,30\" stroke=\"black\" stroke-width=\"2\" /><polyline fill=\"none\" points=\"1210,150 1300,150\" stroke=\"black\" stroke-width=\"2\" /><polyline fill=\"none\" points=\"1210,180 1300,180\" stroke=\"black\" stroke-width=\"2\" /><polyline fill=\"none\" points=\"1210,210 1300,210\" stroke=\"black\" stroke-width=\"2\" /><polyline fill=\"none\" points=\"1210,240 1300,240\" stroke=\"black\" stroke-width=\"2\" /><polyline fill=\"none\" points=\"1300,30 1390,30\" stroke=\"black\" stroke-width=\"2\" /><polyline fill=\"none\" points=\"1300,60 1390,60\" stroke=\"black\" stroke-width=\"2\" /><polyline fill=\"none\" points=\"1300,120 1390,120\" stroke=\"black\" stroke-width=\"2\" /><polyline fill=\"none\" points=\"1300,150 1390,150\" stroke=\"black\" stroke-width=\"2\" /><polyline fill=\"none\" points=\"1300,180 1390,180\" stroke=\"black\" stroke-width=\"2\" /><polyline fill=\"none\" points=\"1300,210 1390,210\" stroke=\"black\" stroke-width=\"2\" /><polyline fill=\"none\" points=\"1300,240 1390,240\" stroke=\"black\" stroke-width=\"2\" /><polyline fill=\"none\" points=\"1390,30 1480,30\" stroke=\"black\" stroke-width=\"2\" /><polyline fill=\"none\" points=\"1390,120 1480,120\" stroke=\"black\" stroke-width=\"2\" /><polyline fill=\"none\" points=\"1390,150 1480,150\" stroke=\"black\" stroke-width=\"2\" /><polyline fill=\"none\" points=\"1390,180 1480,180\" stroke=\"black\" stroke-width=\"2\" /><polyline fill=\"none\" points=\"1390,210 1480,210\" stroke=\"black\" stroke-width=\"2\" /><polyline fill=\"none\" points=\"1390,240 1480,240\" stroke=\"black\" stroke-width=\"2\" /><polyline fill=\"none\" points=\"1480,30 1570,30\" stroke=\"black\" stroke-width=\"2\" /><polyline fill=\"none\" points=\"1480,90 1570,90\" stroke=\"black\" stroke-width=\"2\" /><polyline fill=\"none\" points=\"1480,120 1570,120\" stroke=\"black\" stroke-width=\"2\" /><polyline fill=\"none\" points=\"1480,150 1570,150\" stroke=\"black\" stroke-width=\"2\" /><polyline fill=\"none\" points=\"1480,180 1570,180\" stroke=\"black\" stroke-width=\"2\" /><polyline fill=\"none\" points=\"1480,210 1570,210\" stroke=\"black\" stroke-width=\"2\" /><polyline fill=\"none\" points=\"1480,240 1570,240\" stroke=\"black\" stroke-width=\"2\" /><text font-size=\"12\" x=\"25\" y=\"30\">0</text><text font-size=\"12\" x=\"25\" y=\"60\">1</text><text font-size=\"12\" x=\"25\" y=\"90\">2</text><text font-size=\"12\" x=\"25\" y=\"120\">3</text><text font-size=\"12\" x=\"25\" y=\"150\">4</text><text font-size=\"12\" x=\"25\" y=\"180\">5</text><text font-size=\"12\" x=\"25\" y=\"210\">6</text><text font-size=\"12\" x=\"25\" y=\"240\">7</text></svg>"
      ],
      "text/plain": [
       "<svgwrite.drawing.Drawing at 0x2720af4f3d0>"
      ]
     },
     "execution_count": 43,
     "metadata": {},
     "output_type": "execute_result"
    }
   ],
   "source": [
    "num_ME = 7\n",
    "eta = 1\n",
    "theta = eta - torch.pi/2\n",
    "\n",
    "random_cov = torch.abs(torch.randn(2*(num_ME+1), 2*(num_ME+1)))\n",
    "random_mean = torch.abs(torch.randn(2*(num_ME+1), 2*(num_ME+1)))\n",
    "\n",
    "cov = random_cov\n",
    "mean = random_mean\n",
    "\n",
    "cov = torch.eye(2*(num_ME+1))\n",
    "mean = torch.zeros(2*(num_ME+1))\n",
    "\n",
    "# cir = dq.QumodeCircuit(nmode=num_ME+1, init_state=[cov, mean], \n",
    "#                        backend='gaussian', \n",
    "#                        name='try', noise=False)\n",
    "\n",
    "cir = dq.QumodeCircuit(nmode=num_ME+1, init_state='vac', \n",
    "                       backend='gaussian', \n",
    "                       name='try', noise=False)\n",
    "\n",
    "for i in range(num_ME-1):\n",
    "    for j in range(num_ME-i-1):\n",
    "        cir.bs(wires=[j+1,j+2], inputs=[theta, 0])\n",
    "        cir.ps(j+1, [0.1])\n",
    "\n",
    "#线路可视化\n",
    "cir.draw('pic/CM_circ_num_ME.svg'.format(num_ME))"
   ]
  },
  {
   "cell_type": "code",
   "execution_count": 44,
   "metadata": {},
   "outputs": [
    {
     "name": "stdout",
     "output_type": "stream",
     "text": [
      "number of modes:  8\n",
      "sample:  tensor([[-0.1802, -0.5746, -1.2918,  ...,  0.7609,  0.7123,  0.2027],\n",
      "        [ 1.7162,  0.0857,  0.7725,  ...,  0.2982, -0.1655, -0.7667],\n",
      "        [-1.8229, -0.7261,  1.5416,  ...,  0.9275,  0.0048, -0.3221],\n",
      "        ...,\n",
      "        [-0.1690, -0.1834, -0.8032,  ...,  0.2020, -0.9784,  1.1719],\n",
      "        [ 0.2178,  2.0615,  0.7494,  ...,  0.9386,  1.0888, -0.6133],\n",
      "        [-0.3305,  1.1871, -1.3987,  ..., -1.3671, -0.6377,  0.8692]])\n",
      "size of sample:  torch.Size([1000, 16])\n",
      "\n",
      "全部qubit的每光子数的平均值和方差:  (tensor([0.0000e+00, 1.7881e-07, 1.1921e-07, 1.1921e-07, 1.7881e-07, 1.7881e-07,\n",
      "        5.9605e-08, 0.0000e+00]), tensor([0.0000e+00, 1.7881e-07, 1.1921e-07, 1.1921e-07, 1.7881e-07, 1.7881e-07,\n",
      "        5.9605e-08, 0.0000e+00]))\n"
     ]
    }
   ],
   "source": [
    "state = cir.forward()\n",
    "\n",
    "# 这里measure_homodyne测量对应的物理量是正交算符 $$\\hat x$$ 和 $$\\hat p$$ 的值，\n",
    "# photon_number_mean_var对应的是每个mode的光子数的平均值和方差。\n",
    "\n",
    "# 第一个光子：x1，p1，x2，p2...\n",
    "# 第二个光子：x1，p1，x2，p2...\n",
    "sample = cir.measure_homodyne(shots=1000)\n",
    "\n",
    "# ( [平均值], [方差] )\n",
    "photon_number = cir.photon_number_mean_var()\n",
    "print('number of modes: ', num_ME+1)\n",
    "print('sample: ', sample)\n",
    "print('size of sample: ', sample.size())\n",
    "print('\\n全部qubit的每光子数的平均值和方差: ', photon_number)"
   ]
  }
 ],
 "metadata": {
  "kernelspec": {
   "display_name": "deepQ",
   "language": "python",
   "name": "python3"
  },
  "language_info": {
   "codemirror_mode": {
    "name": "ipython",
    "version": 3
   },
   "file_extension": ".py",
   "mimetype": "text/x-python",
   "name": "python",
   "nbconvert_exporter": "python",
   "pygments_lexer": "ipython3",
   "version": "3.11.5"
  }
 },
 "nbformat": 4,
 "nbformat_minor": 2
}
