{
 "cells": [
  {
   "cell_type": "markdown",
   "metadata": {},
   "source": [
    "# **Clements**架构实现任意的光量子酉矩阵线路映射\n",
    "\n",
    "\n",
    "_class_ deepquantum.photonic.circuit.QumodeCircuit(_nmode: int_, _init_state: Any_, _cutoff: int | None = None_, _backend: str = 'fock'_, _basis: bool = True_, _name: str | None = None_, _mps: bool = False_, _chi: int | None = None_, _noise: bool = False_, _mu: float = 0_, _sigma: float = 0.1_)"
   ]
  },
  {
   "cell_type": "code",
   "execution_count": 4,
   "metadata": {},
   "outputs": [],
   "source": [
    "# \"\"\"Clements circuit.\"\"\"\n",
    "# class Clements(QumodeCircuit):\n",
    "    \n",
    "#     \"\"\"Clements circuit.\"\"\"\n",
    "#     def __init__(\n",
    "#         self,\n",
    "#         nmode: int,\n",
    "#         init_state: Any,\n",
    "#         cutoff: Optional[int] = None,\n",
    "#         basis: bool = True,\n",
    "#         phi_first: bool = True,\n",
    "#         noise: bool = False,\n",
    "#         mu: float = 0,\n",
    "#         sigma: float = 0.1\n",
    "#     ) -> None:\n",
    "#         super().__init__(nmode=nmode, init_state=init_state, cutoff=cutoff, basis=basis, name='Clements',\n",
    "#                          noise=noise, mu=mu, sigma=sigma)\n",
    "#         self.phi_first = phi_first\n",
    "#         wires1 = self.wires[1::2]\n",
    "#         wires2 = self.wires[2::2]\n",
    "#         if not phi_first:\n",
    "#             for wire in self.wires:\n",
    "#                 self.ps(wire, encode=True)\n",
    "#         for i in range(nmode):\n",
    "#             if i % 2 == 0:\n",
    "#                 for j in range(len(wires1)):\n",
    "#                     self.mzi([wires1[j] - 1, wires1[j]], phi_first=phi_first, encode=True)\n",
    "#             else:\n",
    "#                 for j in range(len(wires2)):\n",
    "#                     self.mzi([wires2[j] - 1, wires2[j]], phi_first=phi_first, encode=True)\n",
    "#         if phi_first:\n",
    "#             for wire in self.wires:\n",
    "#                 self.ps(wire, encode=True)\n",
    "\n",
    "#     \"\"\"Convert the dictionary of angles to the input data for the circuit.\"\"\"\n",
    "#     def dict2data(self, angle_dict: Dict, dtype = torch.float) -> torch.Tensor:"
   ]
  },
  {
   "cell_type": "markdown",
   "metadata": {},
   "source": [
    "参数:\n",
    "\n",
    "-   **nmode** (_int_) – The number of modes in the circuit.\n",
    "    \n",
    "-   **init_state** (_Any_) – The initial state of the circuit. It can be a vacuum state with `'vac'`. For Fock backend, it can be a Fock basis state, e.g., `[1,0,0]`, or a Fock state tensor, e.g., `[(1/2**0.5, [1,0]), (1/2**0.5, [0,1])]`. Alternatively, it can be a tensor representation. For Gaussian backend, it can be arbitrary Gaussian states with `[cov, mean]`. Use `xxpp` convention and ℏ=2 by default.\n",
    "    \n",
    "-   **cutoff** (_int_ _or_ _None__,_ _optional_) – The Fock space truncation. Default: `None`\n",
    "    \n",
    "-   **backend** (_str__,_ _optional_) – Use `'fock'` for Fock backend or `'gaussian'` for Gaussian backend. Default: `'fock'`\n",
    "    \n",
    "-   **basis** (_bool__,_ _optional_) – Whether to use the representation of Fock basis state for the initial state. Default: `True`\n",
    "    \n",
    "-   **name** (_str_ _or_ _None__,_ _optional_) – The name of the circuit. Default: `None`\n",
    "    \n",
    "-   **mps** (_bool__,_ _optional_) – Whether to use matrix product state representation. Default: `False`\n",
    "    \n",
    "-   **chi** (_int_ _or_ _None__,_ _optional_) – The bond dimension for matrix product state representation. Default: `None`\n",
    "    \n",
    "-   **noise** (_bool__,_ _optional_) – Whether to introduce Gaussian noise. Default: `False`\n",
    "    \n",
    "-   **mu** (_float__,_ _optional_) – The mean of Gaussian noise. Default: 0\n",
    "    \n",
    "-   **sigma** (_float__,_ _optional_) – The standard deviation of Gaussian noise. Default: 0.1"
   ]
  },
  {
   "cell_type": "code",
   "execution_count": 5,
   "metadata": {},
   "outputs": [],
   "source": [
    "import deepquantum as dq\n",
    "import torch\n",
    "\n",
    "clements = dq.Clements(nmode=6, init_state=[1,0,1,0,0,0], cutoff=3)"
   ]
  },
  {
   "cell_type": "markdown",
   "metadata": {},
   "source": [
    "**dict2data**(angle_dict: Dict, dtype=torch.float32) → Tensor\n",
    "Convert the dictionary of angles to the input data for the circuit."
   ]
  },
  {
   "cell_type": "code",
   "execution_count": 6,
   "metadata": {},
   "outputs": [
    {
     "data": {
      "image/svg+xml": [
       "<svg baseProfile=\"full\" height=\"5.454545454545454cm\" version=\"1.1\" width=\"20.1cm\" xmlns=\"http://www.w3.org/2000/svg\" xmlns:ev=\"http://www.w3.org/2001/xml-events\" xmlns:xlink=\"http://www.w3.org/1999/xlink\"><defs /><polyline fill=\"none\" points=\"40,30 70,30 100,60 130,60\" stroke=\"black\" stroke-width=\"2\" /><polyline fill=\"none\" points=\"40,60 70,60 100,30 130,30\" stroke=\"black\" stroke-width=\"2\" /><text font-size=\"9\" x=\"68\" y=\"25\">MZI-PT</text><text font-size=\"7\" x=\"95\" y=\"44\">θ =3.142</text><text font-size=\"7\" x=\"95\" y=\"50\">ϕ =3.142</text><polyline fill=\"none\" points=\"40,90 70,90 100,120 130,120\" stroke=\"black\" stroke-width=\"2\" /><polyline fill=\"none\" points=\"40,120 70,120 100,90 130,90\" stroke=\"black\" stroke-width=\"2\" /><text font-size=\"9\" x=\"68\" y=\"85\">MZI-PT</text><text font-size=\"7\" x=\"95\" y=\"104\">θ =1.571</text><text font-size=\"7\" x=\"95\" y=\"110\">ϕ =3.142</text><polyline fill=\"none\" points=\"40,150 70,150 100,180 130,180\" stroke=\"black\" stroke-width=\"2\" /><polyline fill=\"none\" points=\"40,180 70,180 100,150 130,150\" stroke=\"black\" stroke-width=\"2\" /><text font-size=\"9\" x=\"68\" y=\"145\">MZI-PT</text><text font-size=\"7\" x=\"95\" y=\"164\">θ =2.329</text><text font-size=\"7\" x=\"95\" y=\"170\">ϕ =0.506</text><polyline fill=\"none\" points=\"130,60 160,60 190,90 220,90\" stroke=\"black\" stroke-width=\"2\" /><polyline fill=\"none\" points=\"130,90 160,90 190,60 220,60\" stroke=\"black\" stroke-width=\"2\" /><text font-size=\"9\" x=\"158\" y=\"55\">MZI-PT</text><text font-size=\"7\" x=\"185\" y=\"74\">θ =0.0</text><text font-size=\"7\" x=\"185\" y=\"80\">ϕ =6.079</text><polyline fill=\"none\" points=\"130,120 160,120 190,150 220,150\" stroke=\"black\" stroke-width=\"2\" /><polyline fill=\"none\" points=\"130,150 160,150 190,120 220,120\" stroke=\"black\" stroke-width=\"2\" /><text font-size=\"9\" x=\"158\" y=\"115\">MZI-PT</text><text font-size=\"7\" x=\"185\" y=\"134\">θ =1.152</text><text font-size=\"7\" x=\"185\" y=\"140\">ϕ =4.026</text><polyline fill=\"none\" points=\"220,30 250,30 280,60 310,60\" stroke=\"black\" stroke-width=\"2\" /><polyline fill=\"none\" points=\"220,60 250,60 280,30 310,30\" stroke=\"black\" stroke-width=\"2\" /><text font-size=\"9\" x=\"248\" y=\"25\">MZI-PT</text><text font-size=\"7\" x=\"275\" y=\"44\">θ =1.231</text><text font-size=\"7\" x=\"275\" y=\"50\">ϕ =0.785</text><polyline fill=\"none\" points=\"220,90 250,90 280,120 310,120\" stroke=\"black\" stroke-width=\"2\" /><polyline fill=\"none\" points=\"220,120 250,120 280,90 310,90\" stroke=\"black\" stroke-width=\"2\" /><text font-size=\"9\" x=\"248\" y=\"85\">MZI-PT</text><text font-size=\"7\" x=\"275\" y=\"104\">θ =0.461</text><text font-size=\"7\" x=\"275\" y=\"110\">ϕ =3.515</text><polyline fill=\"none\" points=\"220,150 250,150 280,180 310,180\" stroke=\"black\" stroke-width=\"2\" /><polyline fill=\"none\" points=\"220,180 250,180 280,150 310,150\" stroke=\"black\" stroke-width=\"2\" /><text font-size=\"9\" x=\"248\" y=\"145\">MZI-PT</text><text font-size=\"7\" x=\"275\" y=\"164\">θ =0.461</text><text font-size=\"7\" x=\"275\" y=\"170\">ϕ =4.136</text><polyline fill=\"none\" points=\"310,60 340,60 370,90 400,90\" stroke=\"black\" stroke-width=\"2\" /><polyline fill=\"none\" points=\"310,90 340,90 370,60 400,60\" stroke=\"black\" stroke-width=\"2\" /><text font-size=\"9\" x=\"338\" y=\"55\">MZI-PT</text><text font-size=\"7\" x=\"365\" y=\"74\">θ =1.486</text><text font-size=\"7\" x=\"365\" y=\"80\">ϕ =4.217</text><polyline fill=\"none\" points=\"310,120 340,120 370,150 400,150\" stroke=\"black\" stroke-width=\"2\" /><polyline fill=\"none\" points=\"310,150 340,150 370,120 400,120\" stroke=\"black\" stroke-width=\"2\" /><text font-size=\"9\" x=\"338\" y=\"115\">MZI-PT</text><text font-size=\"7\" x=\"365\" y=\"134\">θ =1.152</text><text font-size=\"7\" x=\"365\" y=\"140\">ϕ =0.995</text><polyline fill=\"none\" points=\"400,30 430,30 460,60 490,60\" stroke=\"black\" stroke-width=\"2\" /><polyline fill=\"none\" points=\"400,60 430,60 460,30 490,30\" stroke=\"black\" stroke-width=\"2\" /><text font-size=\"9\" x=\"428\" y=\"25\">MZI-PT</text><text font-size=\"7\" x=\"455\" y=\"44\">θ =3.142</text><text font-size=\"7\" x=\"455\" y=\"50\">ϕ =6.025</text><polyline fill=\"none\" points=\"400,90 430,90 460,120 490,120\" stroke=\"black\" stroke-width=\"2\" /><polyline fill=\"none\" points=\"400,120 430,120 460,90 490,90\" stroke=\"black\" stroke-width=\"2\" /><text font-size=\"9\" x=\"428\" y=\"85\">MZI-PT</text><text font-size=\"7\" x=\"455\" y=\"104\">θ =0.567</text><text font-size=\"7\" x=\"455\" y=\"110\">ϕ =3.969</text><polyline fill=\"none\" points=\"400,150 430,150 460,180 490,180\" stroke=\"black\" stroke-width=\"2\" /><polyline fill=\"none\" points=\"400,180 430,180 460,150 490,150\" stroke=\"black\" stroke-width=\"2\" /><text font-size=\"9\" x=\"428\" y=\"145\">MZI-PT</text><text font-size=\"7\" x=\"455\" y=\"164\">θ =0.0</text><text font-size=\"7\" x=\"455\" y=\"170\">ϕ =1.5</text><polyline fill=\"none\" points=\"490,60 520,60 550,90 580,90\" stroke=\"black\" stroke-width=\"2\" /><polyline fill=\"none\" points=\"490,90 520,90 550,60 580,60\" stroke=\"black\" stroke-width=\"2\" /><text font-size=\"9\" x=\"518\" y=\"55\">MZI-PT</text><text font-size=\"7\" x=\"545\" y=\"74\">θ =0.591</text><text font-size=\"7\" x=\"545\" y=\"80\">ϕ =2.682</text><polyline fill=\"none\" points=\"490,120 520,120 550,150 580,150\" stroke=\"black\" stroke-width=\"2\" /><polyline fill=\"none\" points=\"490,150 520,150 550,120 580,120\" stroke=\"black\" stroke-width=\"2\" /><text font-size=\"9\" x=\"518\" y=\"115\">MZI-PT</text><text font-size=\"7\" x=\"545\" y=\"134\">θ =3.142</text><text font-size=\"7\" x=\"545\" y=\"140\">ϕ =0.711</text><polyline fill=\"none\" points=\"490,30 580,30\" stroke=\"black\" stroke-width=\"2\" /><rect fill=\"teal\" height=\"12\" rx=\"0\" ry=\"0\" stroke=\"black\" stroke-width=\"1.5\" width=\"6\" x=\"532.5\" y=\"25\" /><text font-size=\"9\" x=\"530\" y=\"20\">PS</text><text font-size=\"7\" x=\"545\" y=\"20\">θ =0.428</text><polyline fill=\"none\" points=\"580,60 670,60\" stroke=\"black\" stroke-width=\"2\" /><rect fill=\"teal\" height=\"12\" rx=\"0\" ry=\"0\" stroke=\"black\" stroke-width=\"1.5\" width=\"6\" x=\"622.5\" y=\"55\" /><text font-size=\"9\" x=\"620\" y=\"50\">PS</text><text font-size=\"7\" x=\"635\" y=\"50\">θ =5.305</text><polyline fill=\"none\" points=\"580,90 670,90\" stroke=\"black\" stroke-width=\"2\" /><rect fill=\"teal\" height=\"12\" rx=\"0\" ry=\"0\" stroke=\"black\" stroke-width=\"1.5\" width=\"6\" x=\"622.5\" y=\"85\" /><text font-size=\"9\" x=\"620\" y=\"80\">PS</text><text font-size=\"7\" x=\"635\" y=\"80\">θ =4.799</text><polyline fill=\"none\" points=\"580,120 670,120\" stroke=\"black\" stroke-width=\"2\" /><rect fill=\"teal\" height=\"12\" rx=\"0\" ry=\"0\" stroke=\"black\" stroke-width=\"1.5\" width=\"6\" x=\"622.5\" y=\"115\" /><text font-size=\"9\" x=\"620\" y=\"110\">PS</text><text font-size=\"7\" x=\"635\" y=\"110\">θ =2.812</text><polyline fill=\"none\" points=\"580,150 670,150\" stroke=\"black\" stroke-width=\"2\" /><rect fill=\"teal\" height=\"12\" rx=\"0\" ry=\"0\" stroke=\"black\" stroke-width=\"1.5\" width=\"6\" x=\"622.5\" y=\"145\" /><text font-size=\"9\" x=\"620\" y=\"140\">PS</text><text font-size=\"7\" x=\"635\" y=\"140\">θ =5.954</text><polyline fill=\"none\" points=\"490,180 580,180\" stroke=\"black\" stroke-width=\"2\" /><rect fill=\"teal\" height=\"12\" rx=\"0\" ry=\"0\" stroke=\"black\" stroke-width=\"1.5\" width=\"6\" x=\"532.5\" y=\"175\" /><text font-size=\"9\" x=\"530\" y=\"170\">PS</text><text font-size=\"7\" x=\"545\" y=\"170\">θ =5.954</text><polyline fill=\"none\" points=\"130,30 220,30\" stroke=\"black\" stroke-width=\"2\" /><polyline fill=\"none\" points=\"130,180 220,180\" stroke=\"black\" stroke-width=\"2\" /><polyline fill=\"none\" points=\"310,30 400,30\" stroke=\"black\" stroke-width=\"2\" /><polyline fill=\"none\" points=\"310,180 400,180\" stroke=\"black\" stroke-width=\"2\" /><polyline fill=\"none\" points=\"580,30 670,30\" stroke=\"black\" stroke-width=\"2\" /><polyline fill=\"none\" points=\"580,180 670,180\" stroke=\"black\" stroke-width=\"2\" /><text font-size=\"12\" x=\"25\" y=\"30\">0</text><text font-size=\"12\" x=\"25\" y=\"60\">1</text><text font-size=\"12\" x=\"25\" y=\"90\">2</text><text font-size=\"12\" x=\"25\" y=\"120\">3</text><text font-size=\"12\" x=\"25\" y=\"150\">4</text><text font-size=\"12\" x=\"25\" y=\"180\">5</text></svg>"
      ],
      "text/plain": [
       "<svgwrite.drawing.Drawing at 0x23bd10773d0>"
      ]
     },
     "execution_count": 6,
     "metadata": {},
     "output_type": "execute_result"
    }
   ],
   "source": [
    "u6x6 = torch.tensor([[1, 0, 1, -1, 0, 0],\n",
    "                     [0, 1, 0, 0, 0, 2 ** 0.5],\n",
    "                     [1, 0, 0, 1, 1, 0],\n",
    "                     [-1, 0, 1, 0, 1, 0],\n",
    "                     [0, 0, 1, 1, -1, 0],\n",
    "                     [0, 2 ** 0.5, 0, 0, 0, -1]]) / 3 ** 0.5\n",
    "# 将酉矩阵分解成clements对应的参数\n",
    "ud = dq.UnitaryDecomposer(u6x6)\n",
    "angle_dict = ud.decomp()[2]\n",
    "clements = dq.Clements(nmode=6, init_state=[1,0,1,0,0,0], cutoff=3)\n",
    "# 仪器角度参数\n",
    "data = clements.dict2data(angle_dict) # 将线路参数编码到6x6的Clements架构中\n",
    "state = clements(data=data)\n",
    "clements.draw('pic/clements.svg')"
   ]
  },
  {
   "cell_type": "markdown",
   "metadata": {},
   "source": [
    "UnitaryDecomposer类"
   ]
  },
  {
   "cell_type": "code",
   "execution_count": 10,
   "metadata": {},
   "outputs": [
    {
     "name": "stdout",
     "output_type": "stream",
     "text": [
      "ud:  ({'N': 6, 'method': 'cssr', 'MZI_list': [[0, 1, 3.141592653589793, 3.141592653589793], [2, 3, 3.141592653589793, 1.5707963267948966], [1, 2, 6.079217994066474, 4.315635696884656e-48], [0, 1, 0.7853981633974482, 1.2309594173407747], [4, 5, 0.5055610400419921, 2.3288145276174745], [3, 4, 4.026162794043074, 1.1520696569388746], [2, 3, 3.5152057321861823, 0.4605056919367729], [1, 2, 4.21697075981051, 1.485943961446143], [0, 1, 6.025178027286486, 3.141592653589793], [4, 5, 4.136354151915253, 0.46050573041546855], [3, 4, 0.9947615175648075, 1.1520696047076153], [2, 3, 3.9694169927853373, 0.566579604034568], [1, 2, 2.6819104680077235, 0.5907937096665539], [4, 5, 1.5003225644830804, 1.9192445843762516e-32], [3, 4, 0.7114717224238039, 3.141592653589793]], 'right': [[0, 1, 3.141592653589793, 3.141592653589793], [2, 3, 3.141592653589793, 1.5707963267948966], [1, 2, 6.079217994066474, 4.315635696884656e-48], [0, 1, 0.7853981633974482, 1.2309594173407747], [4, 5, 0.5055610400419921, 2.3288145276174745], [3, 4, 4.026162794043074, 1.1520696569388746], [2, 3, 3.5152057321861823, 0.4605056919367729], [1, 2, 4.21697075981051, 1.485943961446143], [0, 1, 6.025178027286486, 3.141592653589793]], 'left': [[3, 4, -3.141592653589793, 3.141592653589793], [4, 5, 6.123233995736766e-17, 1.9192445843762516e-32], [1, 2, -0.5055610400419921, 0.5907937096665539], [2, 3, -1.8661931816281734, 0.566579604034568], [3, 4, 0.22227123802470797, 1.1520696047076153], [4, 5, 0.4892004843990969, 0.46050573041546855]], 'phase_angle_ori': array([ 0.42792573, -1.35303478,  1.77645082, -2.96545646, -2.01575027,\n",
      "        0.13108089]), 'phase_angle': array([0.42792573, 5.30460005, 4.79903901, 2.81216781, 5.95376046,\n",
      "       5.95376046])}, defaultdict(<class 'list'>, {(0, 1): [[3.141592653589793, 3.141592653589793], [0.7853981633974482, 1.2309594173407747], [6.025178027286486, 3.141592653589793]], (2, 3): [[3.141592653589793, 1.5707963267948966], [3.5152057321861823, 0.4605056919367729], [3.9694169927853373, 0.566579604034568]], (1, 2): [[6.079217994066474, 4.315635696884656e-48], [4.21697075981051, 1.485943961446143], [2.6819104680077235, 0.5907937096665539]], (4, 5): [[0.5055610400419921, 2.3288145276174745], [4.136354151915253, 0.46050573041546855], [1.5003225644830804, 1.9192445843762516e-32]], (3, 4): [[4.026162794043074, 1.1520696569388746], [0.9947615175648075, 1.1520696047076153], [0.7114717224238039, 3.141592653589793]], (5, 6): []}), {(0, 0): 3.1416, (0, 1): 3.1416, (0, 2): 0.7854, (0, 3): 1.231, (0, 4): 6.0252, (0, 5): 3.1416, (0, 6): 0.4279, (1, 0): 6.0792, (1, 1): 0.0, (1, 2): 4.217, (1, 3): 1.4859, (1, 4): 2.6819, (1, 5): 0.5908, (1, 6): 5.3046, (2, 0): 3.1416, (2, 1): 1.5708, (2, 2): 3.5152, (2, 3): 0.4605, (2, 4): 3.9694, (2, 5): 0.5666, (2, 6): 4.799, (3, 0): 4.0262, (3, 1): 1.1521, (3, 2): 0.9948, (3, 3): 1.1521, (3, 4): 0.7115, (3, 5): 3.1416, (3, 6): 2.8122, (4, 0): 0.5056, (4, 1): 2.3288, (4, 2): 4.1364, (4, 3): 0.4605, (4, 4): 1.5003, (4, 5): 0.0, (4, 6): 5.9538, (5, 0): 5.9538})\n",
      "angle_dict:  {(0, 0): 3.1416, (0, 1): 3.1416, (0, 2): 0.7854, (0, 3): 1.231, (0, 4): 6.0252, (0, 5): 3.1416, (0, 6): 0.4279, (1, 0): 6.0792, (1, 1): 0.0, (1, 2): 4.217, (1, 3): 1.4859, (1, 4): 2.6819, (1, 5): 0.5908, (1, 6): 5.3046, (2, 0): 3.1416, (2, 1): 1.5708, (2, 2): 3.5152, (2, 3): 0.4605, (2, 4): 3.9694, (2, 5): 0.5666, (2, 6): 4.799, (3, 0): 4.0262, (3, 1): 1.1521, (3, 2): 0.9948, (3, 3): 1.1521, (3, 4): 0.7115, (3, 5): 3.1416, (3, 6): 2.8122, (4, 0): 0.5056, (4, 1): 2.3288, (4, 2): 4.1364, (4, 3): 0.4605, (4, 4): 1.5003, (4, 5): 0.0, (4, 6): 5.9538, (5, 0): 5.9538}\n"
     ]
    }
   ],
   "source": [
    "print('ud: ', ud.decomp())\n",
    "angle_dict = ud.decomp()[2]\n",
    "print('angle_dict: ', angle_dict)"
   ]
  },
  {
   "cell_type": "markdown",
   "metadata": {},
   "source": [
    "Clements类"
   ]
  },
  {
   "cell_type": "code",
   "execution_count": 8,
   "metadata": {},
   "outputs": [
    {
     "name": "stdout",
     "output_type": "stream",
     "text": [
      "clements:  Clements(\n",
      "  (init_state): |101000>\n",
      "  (operators): Sequential(\n",
      "    (0): MZI()\n",
      "    (1): MZI()\n",
      "    (2): MZI()\n",
      "    (3): MZI()\n",
      "    (4): MZI()\n",
      "    (5): MZI()\n",
      "    (6): MZI()\n",
      "    (7): MZI()\n",
      "    (8): MZI()\n",
      "    (9): MZI()\n",
      "    (10): MZI()\n",
      "    (11): MZI()\n",
      "    (12): MZI()\n",
      "    (13): MZI()\n",
      "    (14): MZI()\n",
      "    (15): PhaseShift()\n",
      "    (16): PhaseShift()\n",
      "    (17): PhaseShift()\n",
      "    (18): PhaseShift()\n",
      "    (19): PhaseShift()\n",
      "    (20): PhaseShift()\n",
      "  )\n",
      ")\n"
     ]
    }
   ],
   "source": [
    "print('clements: ', clements)"
   ]
  },
  {
   "cell_type": "code",
   "execution_count": 9,
   "metadata": {},
   "outputs": [
    {
     "name": "stdout",
     "output_type": "stream",
     "text": [
      "data:  tensor([3.1416, 3.1416, 1.5708, 3.1416, 2.3288, 0.5056, 0.0000, 6.0792, 1.1521,\n",
      "        4.0262, 1.2310, 0.7854, 0.4605, 3.5152, 0.4605, 4.1364, 1.4859, 4.2170,\n",
      "        1.1521, 0.9948, 3.1416, 6.0252, 0.5666, 3.9694, 0.0000, 1.5003, 0.5908,\n",
      "        2.6819, 3.1416, 0.7115, 0.4279, 5.3046, 4.7990, 2.8122, 5.9538, 5.9538])\n"
     ]
    }
   ],
   "source": [
    "# 仪器角度参数\n",
    "data = clements.dict2data(angle_dict) # 将线路参数编码到6x6的Clements架构中\n",
    "print('data: ', data)"
   ]
  },
  {
   "cell_type": "code",
   "execution_count": 11,
   "metadata": {},
   "outputs": [
    {
     "name": "stdout",
     "output_type": "stream",
     "text": [
      "state:  {|000200>: tensor([[-0.4714-9.3795e-05j]]), |200000>: tensor([[0.4714+2.8385e-05j]]), |100010>: tensor([[0.3333+5.9621e-05j]]), |000110>: tensor([[-0.3333-8.1748e-05j]]), |001100>: tensor([[0.3333+3.0430e-05j]]), |101000>: tensor([[0.3333+1.0227e-05j]]), |001010>: tensor([[0.3333+4.7815e-05j]]), |100100>: tensor([[1.8477e-05+1.9974e-06j]]), |010100>: tensor([[-1.8154e-05+2.1768e-07j]]), |011000>: tensor([[1.1769e-05-3.2756e-06j]]), |110000>: tensor([[5.3855e-06-6.3315e-06j]]), |010010>: tensor([[-6.3839e-06-3.0570e-06j]]), |002000>: tensor([[6.3035e-06+2.7706e-06j]]), |100001>: tensor([[-1.8703e-06+2.8626e-07j]]), |000020>: tensor([[-1.7065e-06-4.3121e-10j]]), |000011>: tensor([[-1.7065e-06-3.4675e-10j]]), |000101>: tensor([[-1.5426e-06-2.8665e-07j]]), |001001>: tensor([[-1.6384e-07+2.8638e-07j]]), |020000>: tensor([[-3.6126e-10-6.3873e-11j]]), |010001>: tensor([[-5.4489e-11+1.2782e-11j]]), |000002>: tensor([[1.1862e-12-2.0734e-12j]])}\n"
     ]
    }
   ],
   "source": [
    "state = clements(data=data)\n",
    "print('state: ', state)"
   ]
  },
  {
   "cell_type": "markdown",
   "metadata": {},
   "source": [
    "# Class GaussianBosonSampling，用于 Gaussian Boson Sampling circuit\n",
    "\n",
    "_class_ deepquantum.photonic.ansatz.GaussianBosonSampling(_nmode: int_, _squeezing: Any_, _unitary: Any_, _cutoff: int | None = None_, _backend: str = 'gaussian'_, _basis: bool = True_, _detector: str = 'pnrd'_, _noise: bool = False_, _mu: float = 0_, _sigma: float = 0.1_)"
   ]
  },
  {
   "cell_type": "markdown",
   "metadata": {},
   "source": [
    "参数:\n",
    "\n",
    "-   **nmode** (_int_) – The number of modes in the circuit.\n",
    "    \n",
    "-   **init_state** (_Any_) – The initial state of the circuit. It can be a vacuum state with `'vac'`. For Fock backend, it can be a Fock basis state, e.g., `[1,0,0]`, or a Fock state tensor, e.g., `[(1/2**0.5, [1,0]), (1/2**0.5, [0,1])]`. Alternatively, it can be a tensor representation. For Gaussian backend, it can be arbitrary Gaussian states with `[cov, mean]`. Use `xxpp` convention and ℏ=2 by default.\n",
    "    \n",
    "-   **cutoff** (_int_ _or_ _None__,_ _optional_) – The Fock space truncation. Default: `None`\n",
    "    \n",
    "-   **backend** (_str__,_ _optional_) – Use `'fock'` for Fock backend or `'gaussian'` for Gaussian backend. Default: `'fock'`\n",
    "    \n",
    "-   **basis** (_bool__,_ _optional_) – Whether to use the representation of Fock basis state for the initial state. Default: `True`\n",
    "    \n",
    "-   **name** (_str_ _or_ _None__,_ _optional_) – The name of the circuit. Default: `None`\n",
    "    \n",
    "-   **mps** (_bool__,_ _optional_) – Whether to use matrix product state representation. Default: `False`\n",
    "    \n",
    "-   **chi** (_int_ _or_ _None__,_ _optional_) – The bond dimension for matrix product state representation. Default: `None`\n",
    "    \n",
    "-   **noise** (_bool__,_ _optional_) – Whether to introduce Gaussian noise. Default: `False`\n",
    "    \n",
    "-   **mu** (_float__,_ _optional_) – The mean of Gaussian noise. Default: 0\n",
    "    \n",
    "-   **sigma** (_float__,_ _optional_) – The standard deviation of Gaussian noise. Default: 0.1"
   ]
  },
  {
   "cell_type": "markdown",
   "metadata": {},
   "source": [
    "# Class GBS_Graph：Simulate Gaussian Boson Sampling for graph problems.\n",
    "_class_ deepquantum.photonic.ansatz.GBS_Graph(_adj_mat: Any_, _cutoff: int | None = None_, _mean_photon_num: int | None = None_, _detector: str = 'pnrd'_, _noise: bool = False_, _mu: float = 0_, _sigma: float = 0.1_)\n",
    "\n",
    "\n"
   ]
  },
  {
   "cell_type": "markdown",
   "metadata": {},
   "source": [
    "_static_ norm_factor_c(_n_num_, _lambd_, _trials=20_)\n",
    "\n",
    "- Get the normalization factor c of squeezing parameters for given total mean photon numbers.\n",
    "\n",
    "_static_ postselect(_samples: Dict_, _nodes_list: List_) → List\n",
    "\n",
    "- Postselect the results with the fixed node subgraph.\n",
    "\n",
    "_static_ graph_density(_graph: Graph_, _samples: Dict_) → Dict\n",
    "\n",
    "- Get all subgraph densities."
   ]
  },
  {
   "cell_type": "markdown",
   "metadata": {},
   "source": [
    "# Class QumodeCircuit：Photonic quantum circuit.\n",
    "\n",
    "_class_ deepquantum.photonic.circuit.QumodeCircuit(_nmode: int_, _init_state: Any_, _cutoff: int | None = None_, _backend: str = 'fock'_, _basis: bool = True_, _name: str | None = None_, _mps: bool = False_, _chi: int | None = None_, _noise: bool = False_, _mu: float = 0_, _sigma: float = 0.1_)"
   ]
  },
  {
   "cell_type": "markdown",
   "metadata": {},
   "source": [
    "参数:\n",
    "\n",
    "-   **nmode** (_int_) – The number of modes in the circuit.\n",
    "    \n",
    "-   **init_state** (_Any_) – The initial state of the circuit. It can be a vacuum state with `'vac'`. For Fock backend, it can be a Fock basis state, e.g., `[1,0,0]`, or a Fock state tensor, e.g., `[(1/2**0.5, [1,0]), (1/2**0.5, [0,1])]`. Alternatively, it can be a tensor representation. For Gaussian backend, it can be arbitrary Gaussian states with `[cov, mean]`. Use `xxpp` convention and ℏ=2 by default.\n",
    "    \n",
    "-   **cutoff** (_int_ _or_ _None__,_ _optional_) – The Fock space truncation. Default: `None`\n",
    "    \n",
    "-   **backend** (_str__,_ _optional_) – Use `'fock'` for Fock backend or `'gaussian'` for Gaussian backend. Default: `'fock'`\n",
    "    \n",
    "-   **basis** (_bool__,_ _optional_) – Whether to use the representation of Fock basis state for the initial state. Default: `True`\n",
    "    \n",
    "-   **name** (_str_ _or_ _None__,_ _optional_) – The name of the circuit. Default: `None`\n",
    "    \n",
    "-   **mps** (_bool__,_ _optional_) – Whether to use matrix product state representation. Default: `False`\n",
    "    \n",
    "-   **chi** (_int_ _or_ _None__,_ _optional_) – The bond dimension for matrix product state representation. Default: `None`\n",
    "    \n",
    "-   **noise** (_bool__,_ _optional_) – Whether to introduce Gaussian noise. Default: `False`\n",
    "    \n",
    "-   **mu** (_float__,_ _optional_) – The mean of Gaussian noise. Default: 0\n",
    "    \n",
    "-   **sigma** (_float__,_ _optional_) – The standard deviation of Gaussian noise. Default: 0.1\n",
    "    \n",
    "\n",
    "to(_arg: Any_) → [QumodeCircuit](https://dqapi.turingq.com/deepquantum.photonic.html#deepquantum.photonic.ansatz.Clements#deepquantum.photonic.circuit.QumodeCircuit \"deepquantum.photonic.circuit.QumodeCircuit\")"
   ]
  },
  {
   "cell_type": "markdown",
   "metadata": {},
   "source": [
    "## forwrad\n",
    "\n",
    "forward(_data: Tensor | None = None_, _state: Any | None = None_, _is_prob: bool = False_, _detector: str | None = None_, _stepwise: bool = False_) → Tensor | Dict | List[Tensor]\n",
    "\n",
    "Perform a forward pass of the photonic quantum circuit and return the final state.\n",
    "\n",
    "参数:\n",
    "\n",
    "-   **data** (_torch.Tensor_ _or_ _None__,_ _optional_) – The input data for the `encoders`. Default: `None`\n",
    "    \n",
    "-   **state** (_Any__,_ _optional_) – The initial state for the photonic quantum circuit. Default: `None`\n",
    "    \n",
    "-   **is_prob** (_bool__,_ _optional_) – Whether to return probabilities for Fock basis states or Gaussian backend. Default: `False`\n",
    "    \n",
    "-   **detector** (_str_ _or_ _None__,_ _optional_) – For Gaussian backend, use `'pnrd'` for photon-number-resolving detector or `'threshold'` for threshold detector. Default: `None`\n",
    "    \n",
    "-   **stepwise** (_bool__,_ _optional_) – Whether to use the forward function of each operator for Gaussian backend. Default: `False`\n",
    "    \n",
    "\n",
    "返回:\n",
    "\n",
    "The final state of the photonic quantum circuit after applying the `operators`.\n",
    "\n",
    "返回类型:\n",
    "\n",
    "Union[torch.Tensor, Dict, List[torch.Tensor]]"
   ]
  },
  {
   "cell_type": "markdown",
   "metadata": {},
   "source": [
    "## encode\n",
    "\n",
    "encode(_data: Tensor | None_) → None\n",
    "\n",
    "Encode the input data into the photonic quantum circuit parameters.\n",
    "\n",
    "This method iterates over the `encoders` of the circuit and initializes their parameters with the input data.\n",
    "\n",
    "参数:\n",
    "\n",
    "**data** (_torch.Tensor_ _or_ _None_) – The input data for the `encoders`, must be a 1D tensor."
   ]
  },
  {
   "cell_type": "markdown",
   "metadata": {},
   "source": [
    "## get_unitary\n",
    "\n",
    "get_unitary() → Tensor\n",
    "Get the unitary matrix of the photonic quantum circuit."
   ]
  }
 ],
 "metadata": {
  "kernelspec": {
   "display_name": "deepQ",
   "language": "python",
   "name": "python3"
  },
  "language_info": {
   "codemirror_mode": {
    "name": "ipython",
    "version": 3
   },
   "file_extension": ".py",
   "mimetype": "text/x-python",
   "name": "python",
   "nbconvert_exporter": "python",
   "pygments_lexer": "ipython3",
   "version": "3.11.9"
  }
 },
 "nbformat": 4,
 "nbformat_minor": 2
}
