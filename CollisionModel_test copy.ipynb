{
 "cells": [
  {
   "cell_type": "code",
   "execution_count": 34,
   "metadata": {},
   "outputs": [],
   "source": [
    "import deepquantum as dq\n",
    "import deepquantum.photonic as dqp\n",
    "import torch\n",
    "import torch.nn as nn\n",
    "import numpy as np\n",
    "import matplotlib.pyplot as plt"
   ]
  },
  {
   "cell_type": "code",
   "execution_count": 35,
   "metadata": {},
   "outputs": [
    {
     "name": "stdout",
     "output_type": "stream",
     "text": [
      "tensor([[[1.0000, 0.0000, 0.0000, 0.0000],\n",
      "         [0.0000, 0.1353, 0.0000, 0.0000],\n",
      "         [0.0000, 0.0000, 1.0000, 0.0000],\n",
      "         [0.0000, 0.0000, 0.0000, 7.3891]]])\n",
      "tensor([[[0.],\n",
      "         [0.],\n",
      "         [0.],\n",
      "         [0.]]])\n"
     ]
    }
   ],
   "source": [
    "cir = dq.QumodeCircuit(nmode=2, init_state='vac', \n",
    "                       backend='gaussian', \n",
    "                       name='try', noise=False)\n",
    "cir.s(1, [1])\n",
    "state = cir()\n",
    "print(state[0])\n",
    "print(state[1])"
   ]
  },
  {
   "cell_type": "code",
   "execution_count": 36,
   "metadata": {},
   "outputs": [
    {
     "data": {
      "text/plain": [
       "tensor([[2., 0., 0., 0.],\n",
       "        [0., 2., 0., 0.],\n",
       "        [0., 0., 2., 0.],\n",
       "        [0., 0., 0., 2.]])"
      ]
     },
     "execution_count": 36,
     "metadata": {},
     "output_type": "execute_result"
    }
   ],
   "source": [
    "cov = torch.eye(4)\n",
    "mean = torch.zeros(4)\n",
    "qstate = dq.GaussianState(nmode=2, state=[cov, mean])\n",
    "qstate.cov = torch.eye(4) * 2\n",
    "qstate.cov"
   ]
  },
  {
   "cell_type": "code",
   "execution_count": 37,
   "metadata": {},
   "outputs": [
    {
     "data": {
      "text/plain": [
       "GaussianState()"
      ]
     },
     "execution_count": 37,
     "metadata": {},
     "output_type": "execute_result"
    }
   ],
   "source": [
    "qstate"
   ]
  },
  {
   "cell_type": "code",
   "execution_count": 38,
   "metadata": {},
   "outputs": [
    {
     "data": {
      "text/plain": [
       "tensor([[0.5623, 0.0000, 0.0000, 0.0000],\n",
       "        [0.0000, 0.5623, 0.0000, 0.0000],\n",
       "        [0.0000, 0.0000, 0.5623, 0.0000],\n",
       "        [0.0000, 0.0000, 0.0000, 0.5623]])"
      ]
     },
     "execution_count": 38,
     "metadata": {},
     "output_type": "execute_result"
    }
   ],
   "source": [
    "para = np.log(10)/10\n",
    "loss = 2.5\n",
    "np.exp(-para*loss)*torch.eye(4)"
   ]
  },
  {
   "cell_type": "code",
   "execution_count": 39,
   "metadata": {},
   "outputs": [
    {
     "name": "stdout",
     "output_type": "stream",
     "text": [
      "tensor([[[ 1.0000e+00,  1.6727e-10,  0.0000e+00, -3.7795e-08],\n",
      "         [ 1.6727e-10,  7.3889e+00, -2.7927e-07,  3.2102e-02],\n",
      "         [ 0.0000e+00, -2.7927e-07,  1.0000e+00, -1.2360e-09],\n",
      "         [-3.7795e-08,  3.2102e-02, -1.2360e-09,  1.3548e-01]]])\n",
      "tensor([[[0.],\n",
      "         [0.],\n",
      "         [0.],\n",
      "         [0.]]])\n"
     ]
    },
    {
     "data": {
      "image/svg+xml": [
       "<svg baseProfile=\"full\" height=\"1.9090909090909092cm\" version=\"1.1\" width=\"12.0cm\" xmlns=\"http://www.w3.org/2000/svg\" xmlns:ev=\"http://www.w3.org/2001/xml-events\" xmlns:xlink=\"http://www.w3.org/1999/xlink\"><defs /><polyline fill=\"none\" points=\"40,30 130,30\" stroke=\"black\" stroke-width=\"2\" /><rect fill=\"royalblue\" height=\"12\" rx=\"0\" ry=\"0\" stroke=\"black\" stroke-width=\"1.5\" width=\"10\" x=\"82.5\" y=\"25\" /><text font-size=\"9\" x=\"83\" y=\"20\">S</text><text font-size=\"7\" x=\"95\" y=\"18\">r =1.0</text><text font-size=\"7\" x=\"95\" y=\"24\">θ =0.0</text><polyline fill=\"none\" points=\"130,30 160,30 190,60 220,60\" stroke=\"black\" stroke-width=\"2\" /><polyline fill=\"none\" points=\"130,60 160,60 190,30 220,30\" stroke=\"black\" stroke-width=\"2\" /><text font-size=\"9\" x=\"161\" y=\"25\">BS-RY</text><text font-size=\"7\" x=\"185\" y=\"44\">θ =3.142</text><polyline fill=\"none\" points=\"220,60 310,60\" stroke=\"black\" stroke-width=\"2\" /><rect fill=\"teal\" height=\"12\" rx=\"0\" ry=\"0\" stroke=\"black\" stroke-width=\"1.5\" width=\"6\" x=\"262.5\" y=\"55\" /><text font-size=\"9\" x=\"260\" y=\"50\">PS</text><text font-size=\"7\" x=\"275\" y=\"50\">θ =11.0</text><polyline fill=\"none\" points=\"310,60 400,60\" stroke=\"black\" stroke-width=\"2\" /><rect fill=\"yellow\" height=\"12\" rx=\"0\" ry=\"0\" stroke=\"black\" stroke-width=\"1.5\" width=\"6\" x=\"352.5\" y=\"55\" /><text font-size=\"9\" x=\"350\" y=\"50\">Loss</text><text font-size=\"7\" x=\"370\" y=\"50\">dB =0.0</text><polyline fill=\"none\" points=\"40,60 130,60\" stroke=\"black\" stroke-width=\"2\" /><polyline fill=\"none\" points=\"220,30 310,30\" stroke=\"black\" stroke-width=\"2\" /><polyline fill=\"none\" points=\"310,30 400,30\" stroke=\"black\" stroke-width=\"2\" /><text font-size=\"12\" x=\"25\" y=\"30\">0</text><text font-size=\"12\" x=\"25\" y=\"60\">1</text></svg>"
      ],
      "text/plain": [
       "<svgwrite.drawing.Drawing at 0x20e3810e560>"
      ]
     },
     "execution_count": 39,
     "metadata": {},
     "output_type": "execute_result"
    }
   ],
   "source": [
    "cir = dq.QumodeCircuit(nmode=2, init_state='vac', \n",
    "                       backend='gaussian', \n",
    "                       name='try', noise=False)\n",
    "\n",
    "cir.s(r=1, theta=0, wires=[0])\n",
    "cir.bs_ry([0, 1], inputs=[torch.pi])\n",
    "cir.ps(1, [11])\n",
    "\n",
    "state = cir.forward()\n",
    "print(state[0])\n",
    "print(state[1])\n",
    "\n",
    "cir.loss(1, loss=1)\n",
    "\n",
    "# print(cir.get_unitary())\n",
    "\n",
    "#线路可视化\n",
    "cir.draw('pic/CM_circ_num_ME.svg')"
   ]
  },
  {
   "cell_type": "code",
   "execution_count": 40,
   "metadata": {},
   "outputs": [
    {
     "name": "stdout",
     "output_type": "stream",
     "text": [
      "tensor([[[ 1.0000e+00,  1.6727e-10,  0.0000e+00, -3.7795e-08],\n",
      "         [ 1.6727e-10,  7.3889e+00, -2.7927e-07,  3.2102e-02],\n",
      "         [ 0.0000e+00, -2.7927e-07,  1.0000e+00, -1.2360e-09],\n",
      "         [-3.7795e-08,  3.2102e-02, -1.2360e-09,  1.3548e-01]]],\n",
      "       grad_fn=<UnsqueezeBackward0>)\n",
      "tensor([[[0.],\n",
      "         [0.],\n",
      "         [0.],\n",
      "         [0.]]], grad_fn=<UnsqueezeBackward0>)\n"
     ]
    }
   ],
   "source": [
    "state = cir.forward()\n",
    "print(state[0])\n",
    "print(state[1])"
   ]
  },
  {
   "cell_type": "code",
   "execution_count": 41,
   "metadata": {},
   "outputs": [
    {
     "data": {
      "image/svg+xml": [
       "<svg baseProfile=\"full\" height=\"2.8636363636363638cm\" version=\"1.1\" width=\"17.4cm\" xmlns=\"http://www.w3.org/2000/svg\" xmlns:ev=\"http://www.w3.org/2001/xml-events\" xmlns:xlink=\"http://www.w3.org/1999/xlink\"><defs /><polyline fill=\"none\" points=\"40,30 130,30\" stroke=\"black\" stroke-width=\"2\" /><polyline fill=\"none\" points=\"40,60 130,60\" stroke=\"black\" stroke-width=\"2\" /><rect fill=\"royalblue\" height=\"39\" rx=\"0\" ry=\"0\" stroke=\"black\" stroke-width=\"1.5\" width=\"10\" x=\"82.5\" y=\"25\" /><text font-size=\"9\" x=\"80\" y=\"20\">S2</text><text font-size=\"7\" x=\"95\" y=\"18\">r =2.0</text><text font-size=\"7\" x=\"95\" y=\"24\">θ =0.0</text><polyline fill=\"none\" points=\"130,30 220,30\" stroke=\"black\" stroke-width=\"2\" /><rect fill=\"yellow\" height=\"12\" rx=\"0\" ry=\"0\" stroke=\"black\" stroke-width=\"1.5\" width=\"6\" x=\"172.5\" y=\"25\" /><text font-size=\"9\" x=\"170\" y=\"20\">Loss</text><text font-size=\"7\" x=\"190\" y=\"20\">dB =0.0</text><polyline fill=\"none\" points=\"130,60 220,60\" stroke=\"black\" stroke-width=\"2\" /><rect fill=\"yellow\" height=\"12\" rx=\"0\" ry=\"0\" stroke=\"black\" stroke-width=\"1.5\" width=\"6\" x=\"172.5\" y=\"55\" /><text font-size=\"9\" x=\"170\" y=\"50\">Loss</text><text font-size=\"7\" x=\"190\" y=\"50\">dB =0.0</text><polyline fill=\"none\" points=\"40,90 130,90\" stroke=\"black\" stroke-width=\"2\" /><rect fill=\"royalblue\" height=\"12\" rx=\"0\" ry=\"0\" stroke=\"black\" stroke-width=\"1.5\" width=\"10\" x=\"82.5\" y=\"85\" /><text font-size=\"9\" x=\"83\" y=\"80\">S</text><text font-size=\"7\" x=\"95\" y=\"78\">r =0.0</text><text font-size=\"7\" x=\"95\" y=\"84\">θ =0.0</text><polyline fill=\"none\" points=\"130,90 220,90\" stroke=\"black\" stroke-width=\"2\" /><rect fill=\"yellow\" height=\"12\" rx=\"0\" ry=\"0\" stroke=\"black\" stroke-width=\"1.5\" width=\"6\" x=\"172.5\" y=\"85\" /><text font-size=\"9\" x=\"170\" y=\"80\">Loss</text><text font-size=\"7\" x=\"190\" y=\"80\">dB =0.0</text><polyline fill=\"none\" points=\"220,30 310,30\" stroke=\"black\" stroke-width=\"2\" /><rect fill=\"yellow\" height=\"12\" rx=\"0\" ry=\"0\" stroke=\"black\" stroke-width=\"1.5\" width=\"6\" x=\"262.5\" y=\"25\" /><text font-size=\"9\" x=\"260\" y=\"20\">Loss</text><text font-size=\"7\" x=\"280\" y=\"20\">dB =0.0</text><polyline fill=\"none\" points=\"310,30 400,30\" stroke=\"black\" stroke-width=\"2\" /><rect fill=\"yellow\" height=\"12\" rx=\"0\" ry=\"0\" stroke=\"black\" stroke-width=\"1.5\" width=\"6\" x=\"352.5\" y=\"25\" /><text font-size=\"9\" x=\"350\" y=\"20\">Loss</text><text font-size=\"7\" x=\"370\" y=\"20\">dB =0.0</text><polyline fill=\"none\" points=\"220,60 250,60 280,90 310,90\" stroke=\"black\" stroke-width=\"2\" /><polyline fill=\"none\" points=\"220,90 250,90 280,60 310,60\" stroke=\"black\" stroke-width=\"2\" /><text font-size=\"9\" x=\"251\" y=\"55\">BS-RY</text><text font-size=\"7\" x=\"275\" y=\"74\">θ =-3.142</text><polyline fill=\"none\" points=\"310,60 400,60\" stroke=\"black\" stroke-width=\"2\" /><rect fill=\"yellow\" height=\"12\" rx=\"0\" ry=\"0\" stroke=\"black\" stroke-width=\"1.5\" width=\"6\" x=\"352.5\" y=\"55\" /><text font-size=\"9\" x=\"350\" y=\"50\">Loss</text><text font-size=\"7\" x=\"370\" y=\"50\">dB =0.0</text><polyline fill=\"none\" points=\"310,90 400,90\" stroke=\"black\" stroke-width=\"2\" /><rect fill=\"yellow\" height=\"12\" rx=\"0\" ry=\"0\" stroke=\"black\" stroke-width=\"1.5\" width=\"6\" x=\"352.5\" y=\"85\" /><text font-size=\"9\" x=\"350\" y=\"80\">Loss</text><text font-size=\"7\" x=\"370\" y=\"80\">dB =0.0</text><polyline fill=\"none\" points=\"400,60 490,60\" stroke=\"black\" stroke-width=\"2\" /><rect fill=\"teal\" height=\"12\" rx=\"0\" ry=\"0\" stroke=\"black\" stroke-width=\"1.5\" width=\"6\" x=\"442.5\" y=\"55\" /><text font-size=\"9\" x=\"440\" y=\"50\">PS</text><text font-size=\"7\" x=\"455\" y=\"50\">θ =0.0</text><polyline fill=\"none\" points=\"490,60 580,60\" stroke=\"black\" stroke-width=\"2\" /><rect fill=\"yellow\" height=\"12\" rx=\"0\" ry=\"0\" stroke=\"black\" stroke-width=\"1.5\" width=\"6\" x=\"532.5\" y=\"55\" /><text font-size=\"9\" x=\"530\" y=\"50\">Loss</text><text font-size=\"7\" x=\"550\" y=\"50\">dB =0.0</text><polyline fill=\"none\" points=\"400,90 490,90\" stroke=\"black\" stroke-width=\"2\" /><rect fill=\"yellow\" height=\"12\" rx=\"0\" ry=\"0\" stroke=\"black\" stroke-width=\"1.5\" width=\"6\" x=\"442.5\" y=\"85\" /><text font-size=\"9\" x=\"440\" y=\"80\">Loss</text><text font-size=\"7\" x=\"460\" y=\"80\">dB =0.0</text><polyline fill=\"none\" points=\"400,30 490,30\" stroke=\"black\" stroke-width=\"2\" /><polyline fill=\"none\" points=\"490,30 580,30\" stroke=\"black\" stroke-width=\"2\" /><polyline fill=\"none\" points=\"490,90 580,90\" stroke=\"black\" stroke-width=\"2\" /><text font-size=\"12\" x=\"25\" y=\"30\">0</text><text font-size=\"12\" x=\"25\" y=\"60\">1</text><text font-size=\"12\" x=\"25\" y=\"90\">2</text></svg>"
      ],
      "text/plain": [
       "<svgwrite.drawing.Drawing at 0x20e38150f10>"
      ]
     },
     "execution_count": 41,
     "metadata": {},
     "output_type": "execute_result"
    }
   ],
   "source": [
    "Ns: int = 1\n",
    "Nm: int = 2\n",
    "NL: int = 0\n",
    "eta: float = 0\n",
    "delta_k: float = 0\n",
    "r_k: float = 0\n",
    "phi_k: float = [0,1]\n",
    "shots: int = 10000\n",
    "init_state: any = 'vac'\n",
    "s_r: float = 0\n",
    "s_phi: float = 0\n",
    "m1_r: float = 0\n",
    "m1_phi: float = 0\n",
    "\n",
    "N_total = Ns + Nm + NL\n",
    "theta = 2*eta - np.pi\n",
    "\n",
    "cir = dq.QumodeCircuit(nmode=N_total, init_state=init_state, \n",
    "                    backend='gaussian', \n",
    "                    name='try', noise=False,\n",
    "                    mu = 0, sigma = 0)\n",
    "\n",
    "# s0,m1, two-mode squeezed vacuum (TMSV) state \n",
    "# # S(r,theta)\n",
    "cir.s2(wires=[0, 1], r=2, theta=0)\n",
    "cir.loss(0, loss=0.5)\n",
    "cir.loss(1, loss=0.5)\n",
    "\n",
    "# m2, single-mode squeezing vacuum (SMSV) state\n",
    "# for i in range(Nm+NL-1):\n",
    "#     cir.s(wires=2+i, r=r_k, theta=phi_k)\n",
    "\n",
    "for i in range(Nm+NL-1):\n",
    "    cir.s(wires=2+i, r=r_k, theta=phi_k[i % 2])\n",
    "    cir.loss(2+i, loss=0.5)\n",
    "\n",
    "cir.loss(0, loss=0.5)\n",
    "cir.loss(0, loss=0.5)\n",
    "\n",
    "for i in range(N_total-2):\n",
    "    for j in range(N_total-i-2):\n",
    "        cir.bs_ry(wires=[j+1,j+2], inputs=theta)\n",
    "        cir.loss(j+1, loss=0.5)\n",
    "        cir.loss(j+2, loss=0.5)\n",
    "        cir.ps(j+1, [delta_k])\n",
    "        cir.loss(j+1, loss=0.5)\n",
    "        cir.loss(j+2, loss=0.5)\n",
    "\n",
    "#线路可视化\n",
    "cir.draw('pic/CM_circ_num_ME{}.svg'.format(N_total))"
   ]
  },
  {
   "cell_type": "code",
   "execution_count": 42,
   "metadata": {},
   "outputs": [
    {
     "name": "stdout",
     "output_type": "stream",
     "text": [
      "number of modes:  3\n",
      "sample:  tensor([[ 0.7958, -0.0645, -0.6587,  0.4543, -0.1707,  0.2891],\n",
      "        [ 0.9678, -1.9907, -1.0894, -9.4154,  0.7987, -9.3052],\n",
      "        [ 3.8839,  0.4301, -3.7641, -0.5660, -0.8602, -0.6002],\n",
      "        ...,\n",
      "        [-6.1166, -0.6606,  6.3576, -3.6339, -0.1256, -3.3348],\n",
      "        [-1.5552,  1.8793,  1.8381, -3.1764, -1.9230, -3.5826],\n",
      "        [ 2.7373, -2.5239, -2.5156, 11.8857,  0.3423, 11.9908]])\n",
      "sample[0]:  tensor([ 0.7958, -0.0645, -0.6587,  0.4543, -0.1707,  0.2891])\n",
      "size of sample:  torch.Size([10000, 6])\n",
      "\n",
      "全部qubit的每光子数的平均值和方差:  (tensor([13.1541,  0.0000, 13.1541], grad_fn=<SqueezeBackward0>), tensor([186.1849,   0.0000, 186.1849], grad_fn=<SqueezeBackward0>))\n"
     ]
    }
   ],
   "source": [
    "state = cir.forward()\n",
    "\n",
    "# 这里measure_homodyne测量对应的物理量是正交算符 $$\\hat x$$ 和 $$\\hat p$$ 的值，\n",
    "# photon_number_mean_var对应的是每个mode的光子数的平均值和方差。\n",
    "# Use ``xxpp`` convention\n",
    "# 第一个光子：x1，x2，... p1，p2...\n",
    "# 第二个光子：x1，x2，... p1，p2...\n",
    "\n",
    "sample = cir.measure_homodyne(shots=shots)\n",
    "\n",
    "# ( [平均值], [方差] )\n",
    "photon_number = cir.photon_number_mean_var()\n",
    "print('number of modes: ', N_total)\n",
    "print('sample: ', sample)\n",
    "print('sample[0]: ', sample[0])\n",
    "print('size of sample: ', sample.size())\n",
    "print('\\n全部qubit的每光子数的平均值和方差: ', photon_number)"
   ]
  },
  {
   "cell_type": "code",
   "execution_count": 43,
   "metadata": {},
   "outputs": [
    {
     "name": "stdout",
     "output_type": "stream",
     "text": [
      "s_x:  [[ 0.79578364  0.9678299   3.883871   ... -6.1166434  -1.555159\n",
      "   2.7372963 ]]\n",
      "s_p:  [[ 0.45425105 -9.415446   -0.5659725  ... -3.6338928  -3.1764314\n",
      "  11.885657  ]]\n",
      "m_x:  [[-0.06447165 -1.9907267   0.4300564  ... -0.6605587   1.8792616\n",
      "  -2.5238838 ]\n",
      " [-0.6587013  -1.0894179  -3.7641394  ...  6.357622    1.8381339\n",
      "  -2.515577  ]]\n",
      "m_p:  [[-0.17071418  0.798658   -0.8601582  ... -0.12558368 -1.9230088\n",
      "   0.3423033 ]\n",
      " [ 0.28910005 -9.305237   -0.60018456 ... -3.3347647  -3.5826435\n",
      "  11.99079   ]]\n",
      "e_x:  []\n",
      "e_p:  []\n"
     ]
    }
   ],
   "source": [
    "s_x = np.array(sample.T[:Ns]) \n",
    "s_p = np.array(sample.T[Ns+Nm+NL:2*Ns+Nm+NL][:])\n",
    "m_x = np.array(sample.T[Ns:(Ns+Nm)][:]) \n",
    "m_p = np.array(sample.T[2*Ns+Nm+NL:2*Ns+2*Nm+NL][:])\n",
    "e_x = np.array(sample.T[Ns+Nm:Ns+Nm+NL][:])\n",
    "e_p = np.array(sample.T[2*Ns+2*Nm+NL:][:])\n",
    "\n",
    "print('s_x: ', s_x)\n",
    "print('s_p: ', s_p)\n",
    "print('m_x: ', m_x)\n",
    "print('m_p: ', m_p)\n",
    "print('e_x: ', e_x)\n",
    "print('e_p: ', e_p)\n",
    "# print('e_p: ', e_p)\n",
    "# tensor([-1.7606, -1.8317,  0.1675,  0.0505,  0.4172,  0.1999, -0.9365, 0.7595, -0.5110, \n",
    "#         -0.1866,  0.0076,  2.5539,  0.6549,  0.2298, -0.5049, -2.2482, 0.2991, -0.8218])        #    s_xj   m1x      m2x     e1x       s_xk   m1p      m2p      e1p  "
   ]
  },
  {
   "cell_type": "code",
   "execution_count": 44,
   "metadata": {},
   "outputs": [
    {
     "data": {
      "text/plain": [
       "(-20.650860500335693,\n",
       " 20.76007719039917,\n",
       " -26.230282402038576,\n",
       " 21.829479789733888)"
      ]
     },
     "execution_count": 44,
     "metadata": {},
     "output_type": "execute_result"
    },
    {
     "data": {
      "image/png": "[encoded data removed]",
      "text/plain": [
       "<Figure size 640x480 with 1 Axes>"
      ]
     },
     "metadata": {},
     "output_type": "display_data"
    }
   ],
   "source": [
    "import matplotlib.pyplot as plt\n",
    "plt.plot(s_x[0], s_p[0], 'ro', label='s')\n",
    "plt.plot(m_x[0], m_p[0], 'bo', label='m1')\n",
    "plt.plot(m_x[1], m_p[1], 'o', label='m2')\n",
    "# plt.plot(e_x[0], e_p[0], 'go', label='e1')\n",
    "# plt.plot(e_x[1], e_p[1], 'o', label='e2')\n",
    "plt.legend()\n",
    "plt.axis('equal')"
   ]
  },
  {
   "cell_type": "code",
   "execution_count": 45,
   "metadata": {},
   "outputs": [
    {
     "data": {
      "text/plain": [
       "(-26.148773860931396,\n",
       " 21.825598430633544,\n",
       " -4.585592639446259,\n",
       " 4.2978583693504335)"
      ]
     },
     "execution_count": 45,
     "metadata": {},
     "output_type": "execute_result"
    },
    {
     "data": {
      "image/png": "[encoded data removed]",
      "text/plain": [
       "<Figure size 640x480 with 1 Axes>"
      ]
     },
     "metadata": {},
     "output_type": "display_data"
    }
   ],
   "source": [
    "import matplotlib.pyplot as plt\n",
    "plt.plot(s_x[0], m_x[0], 'ro', label='sm1_x')\n",
    "plt.plot(s_p[0], m_p[0], 'bo', label='sm1_p')\n",
    "\n",
    "plt.legend()\n",
    "plt.axis('equal')"
   ]
  },
  {
   "cell_type": "code",
   "execution_count": 46,
   "metadata": {},
   "outputs": [],
   "source": [
    "def get_sigma(xj, xk):\n",
    "    return np.cov(xj, xk)"
   ]
  },
  {
   "cell_type": "code",
   "execution_count": 47,
   "metadata": {},
   "outputs": [
    {
     "data": {
      "text/plain": [
       "array([[27.28648053,  0.08013126],\n",
       "       [ 0.08013126, 27.56865902]])"
      ]
     },
     "execution_count": 47,
     "metadata": {},
     "output_type": "execute_result"
    }
   ],
   "source": [
    "get_sigma(s_x, s_p)"
   ]
  },
  {
   "cell_type": "code",
   "execution_count": 48,
   "metadata": {},
   "outputs": [
    {
     "data": {
      "text/plain": [
       "4"
      ]
     },
     "execution_count": 48,
     "metadata": {},
     "output_type": "execute_result"
    }
   ],
   "source": [
    "sigma_s = np.zeros((2,2))\n",
    "np.size(sigma_s)"
   ]
  },
  {
   "cell_type": "code",
   "execution_count": 49,
   "metadata": {},
   "outputs": [
    {
     "data": {
      "text/plain": [
       "(array([[27.28648053,  0.08013126],\n",
       "        [ 0.08013126, 27.56865902]]),\n",
       " array([[1.04309802, 0.0101375 ],\n",
       "        [0.0101375 , 1.0003399 ]]),\n",
       " array([[27.26441412, -0.07293413],\n",
       "        [-0.07293413, 27.56143366]]))"
      ]
     },
     "execution_count": 49,
     "metadata": {},
     "output_type": "execute_result"
    }
   ],
   "source": [
    "sigma_s = np.zeros((2,2))\n",
    "sigma_m1 = np.zeros((2,2))\n",
    "sigma_m2 = np.zeros((2,2))\n",
    "\n",
    "sigma_s = get_sigma(s_x, s_p)\n",
    "sigma_m1 = get_sigma(m_x[0], m_p[0])\n",
    "sigma_m2 = get_sigma(m_x[1], m_p[1])\n",
    "\n",
    "sigma_s, sigma_m1, sigma_m2"
   ]
  },
  {
   "cell_type": "markdown",
   "metadata": {},
   "source": [
    "$$\\boldsymbol{\\sigma} = \\begin{bmatrix}\n",
    "\\sigma_{xx,aa} & \\sigma_{xp,aa} & \\sigma_{xx,ab} & \\sigma_{xp,ab} \\\\\n",
    "\\sigma_{px,aa} & \\sigma_{pp,aa} & \\sigma_{px,ab} & \\sigma_{pp,ab} \\\\\n",
    "\\sigma_{xx,ba} & \\sigma_{xp,ba} & \\sigma_{xx,bb} & \\sigma_{xp,bb} \\\\\n",
    "\\sigma_{px,ba} & \\sigma_{pp,ba} & \\sigma_{px,bb} & \\sigma_{pp,bb}\n",
    "\\end{bmatrix}$$"
   ]
  },
  {
   "cell_type": "code",
   "execution_count": 50,
   "metadata": {},
   "outputs": [
    {
     "name": "stdout",
     "output_type": "stream",
     "text": [
      "sigma_m12: \n",
      " [[ 1.04309802e+00  1.01375027e-02  8.39348489e-02 -9.58179878e-02]\n",
      " [ 1.01375027e-02  1.00033990e+00  1.54179720e-02 -4.54942862e-02]\n",
      " [ 8.39348489e-02  1.54179720e-02  2.72644141e+01 -7.29341264e-02]\n",
      " [-9.58179878e-02 -4.54942862e-02 -7.29341264e-02  2.75614337e+01]]\n",
      "sigma_sm1: \n",
      " [[ 2.72864805e+01  8.01312581e-02 -8.59959109e-02 -1.33390090e-02]\n",
      " [ 8.01312581e-02  2.75686590e+01 -9.47605784e-02 -4.43403774e-02]\n",
      " [-8.59959109e-02 -9.47605784e-02  1.04309802e+00  1.01375027e-02]\n",
      " [-1.33390090e-02 -4.43403774e-02  1.01375027e-02  1.00033990e+00]]\n",
      "sigma_sm2: \n",
      " [[ 27.28648053   0.08013126 -27.25722582   0.07693952]\n",
      " [  0.08013126  27.56865902  -0.07563103  27.54658841]\n",
      " [-27.25722582  -0.07563103  27.26441412  -0.07293413]\n",
      " [  0.07693952  27.54658841  -0.07293413  27.56143366]]\n"
     ]
    }
   ],
   "source": [
    "sigma_m12 = np.zeros((2*Nm,2*Nm))\n",
    "sigma_sm1 = np.zeros((2*(Ns+1),2*(Ns+1)))\n",
    "sigma_sm2 = np.zeros((2*(Ns+1),2*(Ns+1)))\n",
    "\n",
    "choose = [['xxaa', 'xpaa', 'xxab', 'xpab'],\n",
    "          ['pxaa', 'ppaa', 'pxab', 'ppab'],\n",
    "          ['xxba', 'xpba', 'xxbb', 'xpbb'],\n",
    "          ['pxba', 'ppba', 'pxbb', 'ppbb']]\n",
    "index_m12 = {'xa':m_x[0], 'pa':m_p[0], 'xb':m_x[1], 'pb':m_p[1]}\n",
    "index_sm1 = {'xa':s_x, 'pa':s_p, 'xb':m_x[0], 'pb':m_p[0]}\n",
    "index_sm2 = {'xa':s_x, 'pa':s_p, 'xb':m_x[1], 'pb':m_p[1]}\n",
    "\n",
    "for i in range(Nm*2):\n",
    "    for j in range(Nm*2):\n",
    "        sigma_m12[i][j] = get_sigma( index_m12[choose[i][j][0]+choose[i][j][2]], \n",
    "                               index_m12[choose[i][j][1]+choose[i][j][3]] )[0][1]\n",
    "        sigma_sm1[i][j] = get_sigma( index_sm1[choose[i][j][0]+choose[i][j][2]], \n",
    "                               index_sm1[choose[i][j][1]+choose[i][j][3]] )[0][1]\n",
    "        sigma_sm2[i][j] = get_sigma( index_sm2[choose[i][j][0]+choose[i][j][2]],\n",
    "                                 index_sm2[choose[i][j][1]+choose[i][j][3]] )[0][1]\n",
    "\n",
    "print('sigma_m12: \\n', sigma_m12)\n",
    "print('sigma_sm1: \\n', sigma_sm1)\n",
    "print('sigma_sm2: \\n', sigma_sm2)\n"
   ]
  },
  {
   "cell_type": "markdown",
   "metadata": {},
   "source": [
    "$$\n",
    "\\boldsymbol{\\sigma} = \\begin{bmatrix}\n",
    "\\sigma_{xx,aa} & \\sigma_{xp,aa} & \\sigma_{xx,ab} & \\sigma_{xp,ab} & \\sigma_{xx,ac} & \\sigma_{xp,ac} \\\\\n",
    "\\sigma_{px,aa} & \\sigma_{pp,aa} & \\sigma_{px,ab} & \\sigma_{pp,ab} & \\sigma_{px,ac} & \\sigma_{pp,ac} \\\\\n",
    "\\sigma_{xx,ba} & \\sigma_{xp,ba} & \\sigma_{xx,bb} & \\sigma_{xp,bb} & \\sigma_{xx,bc} & \\sigma_{xp,bc} \\\\\n",
    "\\sigma_{px,ba} & \\sigma_{pp,ba} & \\sigma_{px,bb} & \\sigma_{pp,bb} & \\sigma_{px,bc} & \\sigma_{pp,bc} \\\\\n",
    "\\sigma_{xx,ca} & \\sigma_{xp,ca} & \\sigma_{xx,cb} & \\sigma_{xp,cb} & \\sigma_{xx,cc} & \\sigma_{xp,cc} \\\\\n",
    "\\sigma_{px,ca} & \\sigma_{pp,ca} & \\sigma_{px,cb} & \\sigma_{pp,cb} & \\sigma_{px,cc} & \\sigma_{pp,cc}\n",
    "\\end{bmatrix}\n",
    "$$"
   ]
  },
  {
   "cell_type": "code",
   "execution_count": 51,
   "metadata": {},
   "outputs": [
    {
     "name": "stdout",
     "output_type": "stream",
     "text": [
      "sigma_sm12: \n",
      " [[ 2.72864805e+01  8.01312581e-02 -8.59959109e-02 -1.33390090e-02\n",
      "  -2.72572258e+01  7.69395200e-02]\n",
      " [ 8.01312581e-02  2.75686590e+01 -9.47605784e-02 -4.43403774e-02\n",
      "  -7.56310295e-02  2.75465884e+01]\n",
      " [-8.59959109e-02 -9.47605784e-02  1.04309802e+00  1.01375027e-02\n",
      "   8.39348489e-02 -9.58179878e-02]\n",
      " [-1.33390090e-02 -4.43403774e-02  1.01375027e-02  1.00033990e+00\n",
      "   1.54179720e-02 -4.54942862e-02]\n",
      " [-2.72572258e+01 -7.56310295e-02  8.39348489e-02  1.54179720e-02\n",
      "   2.72644141e+01 -7.29341264e-02]\n",
      " [ 7.69395200e-02  2.75465884e+01 -9.58179878e-02 -4.54942862e-02\n",
      "  -7.29341264e-02  2.75614337e+01]]\n"
     ]
    }
   ],
   "source": [
    "sigma_sm12 = np.zeros((2*(Ns+Nm), 2*(Ns+Nm)))\n",
    "\n",
    "choose = [['xxaa', 'xpaa', 'xxab', 'xpab', 'xxac', 'xpac'],\n",
    "          ['pxaa', 'ppaa', 'pxab', 'ppab', 'pxac', 'ppac'],\n",
    "          ['xxba', 'xpba', 'xxbb', 'xpbb', 'xxbc', 'xpbc'],\n",
    "          ['pxba', 'ppba', 'pxbb', 'ppbb', 'pxbc', 'ppbc'],\n",
    "          ['xxca', 'xpca', 'xxcb', 'xpcb', 'xxcc', 'xpcc'],\n",
    "          ['pxca', 'ppca', 'pxcb', 'ppcb', 'pxcc', 'ppcc']]\n",
    "index_sm12 = {'xa':s_x, 'pa':s_p, 'xb':m_x[0], 'pb':m_p[0], 'xc':m_x[1], 'pc':m_p[1]}\n",
    "\n",
    "for i in range(2*(Ns+Nm)):\n",
    "    for j in range(2*(Ns+Nm)):\n",
    "        sigma_sm12[i][j] = get_sigma( index_sm12[choose[i][j][0]+choose[i][j][2]], \n",
    "                               index_sm12[choose[i][j][1]+choose[i][j][3]] )[0][1]\n",
    "\n",
    "print('sigma_sm12: \\n', sigma_sm12)"
   ]
  },
  {
   "cell_type": "code",
   "execution_count": 52,
   "metadata": {},
   "outputs": [
    {
     "name": "stdout",
     "output_type": "stream",
     "text": [
      "tensor([[[ 2.7308e+01, -1.1929e-06, -2.7290e+01,  0.0000e+00,  0.0000e+00,\n",
      "           0.0000e+00],\n",
      "         [-1.1929e-06,  1.0000e+00,  1.1500e-06,  0.0000e+00,  0.0000e+00,\n",
      "           0.0000e+00],\n",
      "         [-2.7290e+01,  1.1500e-06,  2.7308e+01,  0.0000e+00,  0.0000e+00,\n",
      "           0.0000e+00],\n",
      "         [ 0.0000e+00,  0.0000e+00,  0.0000e+00,  2.7308e+01,  1.1929e-06,\n",
      "           2.7290e+01],\n",
      "         [ 0.0000e+00,  0.0000e+00,  0.0000e+00,  1.1929e-06,  1.0000e+00,\n",
      "           1.1500e-06],\n",
      "         [ 0.0000e+00,  0.0000e+00,  0.0000e+00,  2.7290e+01,  1.1500e-06,\n",
      "           2.7308e+01]]], grad_fn=<UnsqueezeBackward0>)\n"
     ]
    }
   ],
   "source": [
    "print(state[0])"
   ]
  },
  {
   "cell_type": "code",
   "execution_count": 53,
   "metadata": {},
   "outputs": [],
   "source": [
    "def f(x):\n",
    "    return (x+1/2)*np.log(x+1/2) - (x-1/2)*np.log(x-1/2)"
   ]
  },
  {
   "cell_type": "code",
   "execution_count": 54,
   "metadata": {},
   "outputs": [],
   "source": [
    "def S(sigma):\n",
    "    from scipy import linalg\n",
    "    eigvals, _ = linalg.eig(sigma)\n",
    "    return np.sum(f(eigvals))"
   ]
  },
  {
   "cell_type": "code",
   "execution_count": 55,
   "metadata": {},
   "outputs": [
    {
     "data": {
      "text/plain": [
       "((0.0007043574606946379+0j),\n",
       " (8.621656581568095-3.0263700916355503j),\n",
       " (8.621649532736503-3.0263873357063886j),\n",
       " (0.0007114062922859432+1.7244070838362546e-05j))"
      ]
     },
     "execution_count": 55,
     "metadata": {},
     "output_type": "execute_result"
    }
   ],
   "source": [
    "I2_s_m1 = S(sigma_s) + S(sigma_m1) - S(sigma_sm1)\n",
    "I2_s_m2 = S(sigma_s) + S(sigma_m2) - S(sigma_sm2)\n",
    "I2_s_m12 = S(sigma_s) + S(sigma_m12) - S(sigma_sm12)\n",
    "\n",
    "I3_s_m1_m2 = I2_s_m1 + I2_s_m2 - I2_s_m12\n",
    "\n",
    "I2_s_m1, I2_s_m2, I2_s_m12, I3_s_m1_m2"
   ]
  },
  {
   "cell_type": "code",
   "execution_count": 56,
   "metadata": {},
   "outputs": [
    {
     "data": {
      "text/plain": [
       "(9.885395119368923e-06+0j)"
      ]
     },
     "execution_count": 56,
     "metadata": {},
     "output_type": "execute_result"
    }
   ],
   "source": [
    "from CM.TMI import TripartiteMutualInformation as tmi\n",
    "\n",
    "a = tmi()\n",
    "a.I3()"
   ]
  }
 ],
 "metadata": {
  "kernelspec": {
   "display_name": "deepQ",
   "language": "python",
   "name": "python3"
  },
  "language_info": {
   "codemirror_mode": {
    "name": "ipython",
    "version": 3
   },
   "file_extension": ".py",
   "mimetype": "text/x-python",
   "name": "python",
   "nbconvert_exporter": "python",
   "pygments_lexer": "ipython3",
   "version": "3.10.14"
  }
 },
 "nbformat": 4,
 "nbformat_minor": 2
}
